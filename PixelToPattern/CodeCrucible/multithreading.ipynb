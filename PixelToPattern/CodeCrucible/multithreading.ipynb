{
 "cells": [
  {
   "cell_type": "code",
   "execution_count": 7,
   "id": "ac5ac2b5",
   "metadata": {},
   "outputs": [
    {
     "name": "stdout",
     "output_type": "stream",
     "text": [
      "The name of current thread is MainThread\n",
      "The id of current thread is 11964\n",
      "The status of current thread is : True\n"
     ]
    }
   ],
   "source": [
    "#multithreading in python \n",
    "import threading\n",
    "currentThread = threading.current_thread() \n",
    "print(\"The name of current thread is {}\".format(currentThread.name)) \n",
    "print(\"The id of current thread is {}\" .format(currentThread.ident))\n",
    "print(\"The status of current thread is : {}\".format(currentThread.is_alive()))"
   ]
  },
  {
   "cell_type": "code",
   "execution_count": 8,
   "id": "cdb3356c",
   "metadata": {},
   "outputs": [
    {
     "data": {
      "text/plain": [
       "' \\n\\nImport thread class from threading module \\nCreate a function containing code to be executed parrallay \\nCreate an object of Thread Class \\nStart created  thread using start() method \\n'"
      ]
     },
     "execution_count": 8,
     "metadata": {},
     "output_type": "execute_result"
    }
   ],
   "source": [
    "#creating thread in python \n",
    "# two 1 : Using thread class presnet in threading module \n",
    "# 2 : By extending thread class \n",
    "\n",
    "\"\"\" \n",
    "\n",
    "Import thread class from threading module \n",
    "Create a function containing code to be executed parrallay \n",
    "Create an object of Thread Class \n",
    "Start created  thread using start() method \n",
    "\"\"\""
   ]
  },
  {
   "cell_type": "code",
   "execution_count": null,
   "id": "0e84e306",
   "metadata": {},
   "outputs": [
    {
     "name": "stdout",
     "output_type": "stream",
     "text": [
      "i : 0\n",
      "i : 1\n",
      "i : 2\n",
      "i : 3\n",
      "i : 4\n",
      "i : 5\n",
      "i : 6\n",
      "i : 7\n",
      "i : 8\n",
      "i : 9\n",
      "j : 0\n",
      "j : 1\n",
      "j : 2\n",
      "j : 3\n",
      "j : 4\n",
      "j : 5\n",
      "j : 6\n",
      "j : 7\n",
      "j : 8\n",
      "j : 9\n",
      "K = 0\n",
      "K = 1\n",
      "K = 2\n",
      "K = 3\n",
      "K = 4\n",
      "K = 5\n",
      "K = 6\n",
      "K = 7\n",
      "K = 8\n",
      "K = 9\n"
     ]
    }
   ],
   "source": [
    "\n",
    "# creating thread using Thread Class \n",
    "# import thread class \n",
    "from threading import Thread , current_thread , ThreadError\n",
    "# create a function containing code to be executed parallaly \n",
    "def display() :\n",
    "    for i in range(10) : \n",
    "        print(\"i : {}\".format(i)) \n",
    "    \n",
    "def display2() :\n",
    "    for j in range(10) :\n",
    "        print(\"j : {}\".format(j))\n",
    "\n",
    "# creating new thread here \n",
    "t1 = Thread(target=display) # args = (oneargs ,) \n",
    "# kwargs : as a dictionary \n",
    "t2 = Thread(target= display2)\n",
    "\n",
    "# starting the thread \n",
    "t1.start() \n",
    "t2.start() \n",
    "# work if display will receive an arguments \n",
    "# t3 = Thread(target= display, kwargs={'n' :4 , \"message\" : \"namaste duniya\"}) \n",
    "# t3.start()\n",
    "\n",
    "# code which will be executed by MainThread \n",
    "for k in range(10) :\n",
    "    print(f\"K = {k}\") "
   ]
  },
  {
   "cell_type": "code",
   "execution_count": 5,
   "id": "853c24f5",
   "metadata": {},
   "outputs": [
    {
     "name": "stdout",
     "output_type": "stream",
     "text": [
      "J = 0\n",
      "J = 1\n",
      "J = 2\n",
      "J = 3\n",
      "J = 4\n",
      "I = 0\n",
      "I = 1\n",
      "I = 2\n",
      "I = 3\n",
      "I = 4\n"
     ]
    }
   ],
   "source": [
    "# Creating thread methods \n",
    "from threading import Thread \n",
    "class Example :\n",
    "    def display(self) : \n",
    "        for i in range(5) : \n",
    "            print(f\"I = {i}\") \n",
    "\n",
    "# executed by main thread \n",
    "for j in range(5) :\n",
    "    print(f\"J = {j}\")\n",
    "\n",
    "# create an object \n",
    "obj1 = Example() \n",
    "t1 = Thread(target= obj1.display) \n",
    "t1.start() "
   ]
  },
  {
   "cell_type": "code",
   "execution_count": null,
   "id": "c2700d9b",
   "metadata": {},
   "outputs": [
    {
     "name": "stdout",
     "output_type": "stream",
     "text": [
      "J = 0\n",
      "J = 1\n",
      "J = 2\n",
      "J = 3\n",
      "J = 4\n",
      "I = 0\n",
      "I = 1\n",
      "I = 2\n",
      "I = 3\n",
      "I = 4\n"
     ]
    }
   ],
   "source": [
    "\n",
    "\n",
    "# Creating thread methods \n",
    "from threading import Thread \n",
    "class Example :\n",
    "    @classmethod\n",
    "    def display(self) : \n",
    "        for i in range(5) : \n",
    "            print(f\"I = {i}\") \n",
    "\n",
    "# executed by main thread \n",
    "for j in range(5) :\n",
    "    print(f\"J = {j}\")\n",
    "\n",
    "# reference of class \n",
    "t1 = Thread(target= Example.display) \n",
    "t1.start() "
   ]
  },
  {
   "cell_type": "code",
   "execution_count": 8,
   "id": "6df0fcee",
   "metadata": {},
   "outputs": [
    {
     "name": "stdout",
     "output_type": "stream",
     "text": [
      "i = 0\n",
      "i = 1\n",
      "i = 2\n",
      "i = 3\n",
      "i = 4\n",
      "i = 5\n",
      "i = 6\n",
      "i = 7\n",
      "i = 8\n",
      "i = 9\n",
      "Constructor called\n"
     ]
    }
   ],
   "source": [
    "# creating thread by inheriting Thread class \n",
    "# way number 2 \n",
    " # we must override the run( ) method of Thread class as similar as java\n",
    "\n",
    "class MyThread(Thread) : \n",
    "    def display(self) :\n",
    "        for i in range(10) :\n",
    "            print(f\"i = {i}\") \n",
    "    def run(self) : \n",
    "        # code to be threaded\n",
    "        self.display() \n",
    "    \n",
    "t1 = MyThread() \n",
    "t1.start() # it will execute the run method \n",
    "# child class me run method ko khoja jayega agar mila to execute ho jayega nhi to parent class ka run method execute hoga\n",
    "\n",
    "class MThread(Thread) : \n",
    "    def __init__(self) :\n",
    "        print(\"Constructor called\")\n",
    "    def diplay(self) :\n",
    "        for j in range(10) :\n",
    "            print(f\"J = {j}\") \n",
    "            \n",
    "    def run (self) :\n",
    "        self.diplay() \n",
    "    \n",
    "\n",
    "t2 = MThread() \n",
    "\n",
    "        "
   ]
  },
  {
   "cell_type": "code",
   "execution_count": null,
   "id": "cbe977cc",
   "metadata": {},
   "outputs": [
    {
     "name": "stdout",
     "output_type": "stream",
     "text": [
      "i = 0\n",
      "i = 1\n",
      "i = 2\n",
      "i = 3\n",
      "i = 4\n",
      "i = 5\n",
      "i = 6\n",
      "i = 7\n",
      "i = 8\n",
      "i = 9\n",
      "J = 0\n",
      "J = 1\n",
      "J = 2\n",
      "J = 3\n",
      "J = 4\n",
      "J = 5\n",
      "J = 6\n",
      "J = 7\n",
      "J = 8\n",
      "J = 9\n"
     ]
    }
   ],
   "source": [
    "# creating thread by inheriting Thread class \n",
    "# way number 2 \n",
    " # we must override the run( ) method of Thread class as similar as java\n",
    "from threading import Thread\n",
    "class MyThread(Thread) : \n",
    "    def display(self) :\n",
    "        for i in range(10) :\n",
    "            print(f\"i = {i}\") \n",
    "    def run(self) : \n",
    "        # code to be threaded\n",
    "        self.display() \n",
    "    \n",
    "t1 = MyThread() \n",
    "#t1.start() # it will execute the run method \n",
    "# child class me run method ko khoja jayega agar mila to execute ho jayega nhi to parent class ka run method execute hoga\n",
    "\n",
    "class MThread(Thread) : \n",
    "    def __init__(self) :\n",
    "        # print(\"Constructor called\")\n",
    "        # may raise an error to avoid this , call the constructor of parent class\n",
    "        super().__init__() # or Thread.__init__(self) \n",
    "    def diplay(self) :\n",
    "        for j in range(10) :\n",
    "            print(f\"J = {j}\") \n",
    "            \n",
    "    def run (self) :\n",
    "        self.diplay() \n",
    "    \n",
    "\n",
    "t2 = MThread() \n",
    "t1.start()\n",
    "t2.start()   \n",
    "\n",
    "# ek thread ko sirf ek baar hi start kar skte hain ji\n",
    "\n",
    "# advantages : we can access data generated by threads \n"
   ]
  },
  {
   "cell_type": "code",
   "execution_count": 9,
   "id": "4f9b8c36",
   "metadata": {},
   "outputs": [
    {
     "name": "stdout",
     "output_type": "stream",
     "text": [
      "Thread-164 (display)\n",
      "Thread-165 (show)\n",
      "i = 0\n",
      "i = 1\n",
      "i = 2\n",
      "i = 3\n",
      "i = 4\n",
      "j = 0\n",
      "j = 1\n",
      "j = 2\n",
      "j = 3\n",
      "j = 4\n",
      "Ghutuk\n",
      "Sarvesh\n",
      "Id of thread \n",
      "9056\n",
      "9056\n",
      "MCA\n"
     ]
    }
   ],
   "source": [
    "# how to configure name and what are threading identity numbers\n",
    "\n",
    "# Thread name are assigned while creating thread , Naming Thread[%d] \n",
    "# First Thread : Thread-1 \n",
    "# Second Thread : Thread-2 \n",
    "\n",
    "#Main thread name : MainThread\n",
    "# name of thread is sotred in 'name' attribute of Thread object \n",
    "\n",
    "\n",
    "from threading import Thread , current_thread\n",
    "def display() :\n",
    "    for i in range(5) : \n",
    "        print(f\"i = {i}\" ) \n",
    "    \n",
    "def show() : \n",
    "    for j in range(5)  : \n",
    "        print(f\"j = {j}\") \n",
    "\n",
    "t1 = Thread(target=display) \n",
    "t2 = Thread(target = show) \n",
    "\n",
    "# printing the name of thread \n",
    "print(t1.name) # accessing name attribute \n",
    "print(t2.name) \n",
    "\n",
    "# getName() : return the name of thread \n",
    "# print(t1.getName()) \n",
    "# it has been depricated \n",
    "\n",
    "# changing the name of thread \n",
    "t1.name = \"Ghutuk\" \n",
    "t2.name = \"Sarvesh\"\n",
    "t1.start() \n",
    "t2.start()\n",
    "# printing the name of thread \n",
    "print(t1.name) # accessing name attribute \n",
    "print(t2.name)\n",
    "\n",
    "\n",
    "print(\"Id of thread \") \n",
    "print(t1.ident) # return None if thread is not started \n",
    "\n",
    "print(t1.native_id)\n",
    "# changing the name of main thread \n",
    "current_thread.name = \"MCA\"\n",
    " \n",
    "print(current_thread.name)\n",
    "\n",
    "# setName() method has been depricated \n",
    "\n",
    "# Thread Identifier \n",
    "# Each thread has a unique identifier (id) within a python process \n",
    "# assigned by the python interpreter \n",
    "# read only +ve integer and unique in process \n",
    "# assgined after starting thread \n",
    "# This identifier is stored in an instance variable : ident : which store identity number \n",
    "\n",
    "\n",
    "#Each thread has unique idnetifier assigned by the operating systerm \n",
    "# property name :  native_id (assigned after thread has started )\n",
    "# ident and native_id are same , but different variables \n",
    "# PID : Process id \n",
    "# identifier for process \n",
    "#OS module -> getpid() \n",
    "\n"
   ]
  },
  {
   "cell_type": "code",
   "execution_count": 16,
   "id": "a29460fa",
   "metadata": {},
   "outputs": [
    {
     "name": "stdout",
     "output_type": "stream",
     "text": [
      "False\n",
      "main thread details :  <_MainThread(MainThread, started 11112)>\n",
      "i = 0\n",
      "i = 1\n",
      "i = 2\n",
      "i = 3\n",
      "i = 4\n",
      "False\n",
      "j = 0\n",
      "j = 1\n",
      "j = 2\n",
      "j = 3\n",
      "j = 4\n",
      "Number of running threads :  6\n",
      "The details of running thread is :  [<_MainThread(MainThread, started 11112)>, <Thread(IOPub, started daemon 9836)>, <Heartbeat(Heartbeat, started daemon 9748)>, <ControlThread(Control, started daemon 11812)>, <HistorySavingThread(IPythonHistorySavingThread, started 11672)>, <ParentPollerWindows(Thread-1, started daemon 14496)>]\n",
      "Native id of main thread 11112\n"
     ]
    }
   ],
   "source": [
    "# counting the current running thread \n",
    "# details of all threads \n",
    "\n",
    "\"\"\" \n",
    "is_alive() : checks thread is running or not , true or false \n",
    "main_thread() : returns main threads details \n",
    "active_count() : number of running threads \n",
    "enumerate() : List of all running threads \n",
    "get_native_id() : know the native id of the thread \n",
    "\n",
    "\"\"\"\n",
    "\n",
    "from threading import * \n",
    "def display() :\n",
    "    print(\"main thread details : \" , main_thread()) \n",
    "    for i in range(5) : \n",
    "        print(f\"i = {i}\" ) \n",
    "    \n",
    "def show() : \n",
    "    for j in range(5)  : \n",
    "        print(f\"j = {j}\") \n",
    "\n",
    "t1 = Thread(target=display) \n",
    "t2 = Thread(target = show) \n",
    "\n",
    "# testing methods \n",
    "print(t1.is_alive()) \n",
    "t1.start() ;\n",
    "print(t1.is_alive())\n",
    "t2.start() \n",
    "\n",
    "print(\"Number of running threads : \" , active_count())\n",
    "\n",
    "print(\"The details of running thread is : \" , enumerate())\n",
    "\n",
    "# get_native_id() : return the native id of current working thread \n",
    "\n",
    "print(\"Native id of main thread\" , get_native_id())\n",
    "\n"
   ]
  },
  {
   "cell_type": "code",
   "execution_count": null,
   "id": "8ee7dec8",
   "metadata": {},
   "outputs": [
    {
     "name": "stdout",
     "output_type": "stream",
     "text": [
      "i = 0\n",
      "i = 1\n",
      "i = 2\n",
      "i = 3\n",
      "i = 4\n",
      "j = 0\n",
      "j = 1\n",
      "j = 2\n",
      "j = 3\n",
      "j = 4\n",
      "Namaste dUniya\n",
      "Namaste dUniya\n",
      "Namaste dUniya\n",
      "Namaste dUniya\n",
      "Namaste dUniya\n"
     ]
    }
   ],
   "source": [
    "# join method for threads\n",
    "# need : ? if a thread wants to wait for some other thread , then we should go for join() method \n",
    "\n",
    "from threading import * \n",
    "from time import * \n",
    "\n",
    "def display() : \n",
    "    for i in range(5) : \n",
    "        print(f\"i = {i}\") \n",
    "\n",
    "def show() : \n",
    "    for i in range(5) : \n",
    "        print(f\"j = {i}\") \n",
    "\n",
    "t1 = Thread(target= display) \n",
    "t2 = Thread(target=show) \n",
    "t1.start() \n",
    "t1.join() # t2 ka execution rok ke rakho jab tak t1 execution complete nahi ho jata hain \n",
    "t2.start() \n",
    "t2.join() \n",
    "\n",
    "# main thread \n",
    "for i in range(5) : \n",
    "    print(\"Namaste dUniya\") \n",
    "\n",
    "# to execute t1 and t2 ek sath : t2.join() only not t1.join() \n",
    "\n"
   ]
  },
  {
   "cell_type": "code",
   "execution_count": null,
   "id": "589f6f8a",
   "metadata": {},
   "outputs": [
    {
     "name": "stdout",
     "output_type": "stream",
     "text": [
      "Finding the square...\n",
      "Finding the cube ...\n",
      "square of 3 is 9\n",
      "Cube of 3 is 27\n",
      "Total time taken :  -1.003302812576294\n"
     ]
    }
   ],
   "source": [
    "\"\"\" \n",
    "Mutlithreading is important but y ? \n",
    "\n",
    "\"\"\"\n",
    "\n",
    "from threading import * \n",
    "import time \n",
    "def square(num) : \n",
    "    print(\"Finding the square...\") \n",
    "    time.sleep(1) \n",
    "    print(f\"square of {num} is {num**2}\") \n",
    "\n",
    "def cube(num): \n",
    "    print(\"Finding the cube ...\")\n",
    "    time.sleep(1) \n",
    "    print(f\"Cube of {num} is {num**3}\") \n",
    "\n",
    "start = time.time() # epoch \n",
    "t1 = Thread(target= square , args = (3,)) \n",
    "t2 = Thread(target= cube , args = (3,)) \n",
    "\n",
    "# starting the thread \n",
    "t1.start() \n",
    "t2.start() \n",
    "\n",
    "t1.join() \n",
    "t2.join() # hold main thread execution untill t2 complete its execution \n",
    "end = time.time() \n",
    "print(\"Total time taken : \" , start - end) \n",
    "\n",
    "#===================================== --------- ---\n",
    "#===================================== --------- --- \n",
    "\n",
    "# multithreading se performance imporve hota hain \n"
   ]
  },
  {
   "cell_type": "code",
   "execution_count": null,
   "id": "786ab088",
   "metadata": {},
   "outputs": [
    {
     "name": "stdout",
     "output_type": "stream",
     "text": [
      "Available seats are : 2\n",
      "1 are allocated to Jay\n",
      "Available seats are : 1\n",
      "1 are allocated to Singh\n"
     ]
    }
   ],
   "source": [
    "# race condition  : a bug in concurrency programming \n",
    "# threads are accessing same resource \n",
    "# if the output of program depends on the execution order of multiple thread , called race condition \n",
    "\n",
    "# output will not be accurate \n",
    "# how can prevent our program from race condition??\n",
    "\n",
    "\n",
    "from threading import * \n",
    "class Bus : \n",
    "    def __init__(self, name , available_seats) : \n",
    "        self.name = name \n",
    "        self.available_seats = available_seats \n",
    "\n",
    "    def reserve(self , n) : \n",
    "        if(n>self.available_seats) :\n",
    "            print(\"Seats are not available \")\n",
    "            return \n",
    "        threadName = current_thread().name\n",
    "        print(f\"Available seats are : {self.available_seats}\")\n",
    "        self.available_seats -= n \n",
    "        print(f\"{n} are allocated to {threadName}\"  ) \n",
    "\n",
    "\n",
    "\n",
    "b1 = Bus(\"Raftar\" ,2) \n",
    "\n",
    "t1 = Thread(target= b1.reserve , args = (1,)) \n",
    "t2 = Thread(target=b1.reserve , args = (1,)) \n",
    "t1.name = \"Jay\" \n",
    "t2.name = \"Singh\" \n",
    "\n",
    "t1.start() \n",
    "t2.start() \n",
    "\n",
    "# to avoid race condition : \n",
    "# a common approach is to protect the critical section of code (Prevent concurrent access ) \n",
    "# using locks , rlocks and semaphores \n"
   ]
  },
  {
   "cell_type": "code",
   "execution_count": null,
   "id": "fe37a2ef",
   "metadata": {},
   "outputs": [],
   "source": [
    "# avoid race condition Lock in multithreading \n",
    "\"\"\" \n",
    "threading module provides a lock class to deal with the race condition \n",
    "Locked : the lock has been acquired by one thread and any thread that makes an attempt to acquire method , it must wait until it is released \n",
    "Unlocked : The lock has not been acquired and can be acquired by the next thread that makes an attempt\n",
    "\n",
    "acquire() method to lock the critical section \n",
    "    change the state of code to locked \n",
    "    other threads have to wait until lock is released by current working thread \n",
    "    syntax : obj.acquire([blocking = True] , timeout = -1) \n",
    "release() method to unlock the critical section , receive no arguments \n",
    "\n",
    "\n",
    "\"\"\""
   ]
  },
  {
   "cell_type": "code",
   "execution_count": null,
   "id": "533e22f4",
   "metadata": {},
   "outputs": [
    {
     "name": "stdout",
     "output_type": "stream",
     "text": [
      "Namaste Duniya\n",
      "Namaste Duniya\n",
      "Namaste Duniya\n",
      "Namaste Duniya\n",
      "Namaste Duniya\n"
     ]
    },
    {
     "name": "stdout",
     "output_type": "stream",
     "text": [
      "Hello World\n",
      "Hello World\n",
      "Hello World\n",
      "Hello World\n",
      "Hello World\n"
     ]
    }
   ],
   "source": [
    "# implementation of avoiding race condition \n",
    "\n",
    "from threading import * \n",
    "from time import sleep\n",
    "myLock = Lock()  # step 1 \n",
    "def task(myLock, msg) : \n",
    "    myLock.acquire()# default time out is -1 , timeout = -1 , avoid using your own values \n",
    "    # blocking = True by default , we can set to False also\n",
    "    for i in range(5) :\n",
    "        print(f\"{msg}\")\n",
    "    sleep(3) \n",
    "    myLock.release() \n",
    "\n",
    "t1 = Thread(target= task , args =(myLock ,\"Namaste Duniya\")) \n",
    "t2 = Thread(target = task , args=(myLock , \"Hello World\")) \n",
    "\n",
    "t1.start() \n",
    "t2.start()\n"
   ]
  },
  {
   "cell_type": "code",
   "execution_count": null,
   "id": "336c7fc3",
   "metadata": {},
   "outputs": [
    {
     "name": "stdout",
     "output_type": "stream",
     "text": [
      "Burjesh Yadav Pelhad hain \n"
     ]
    }
   ],
   "source": [
    "# RLock in python \n",
    "# avoiding race condition \n",
    "# you cannot acquire multiple times using lock mechanism \n",
    "# if we do so , programm will be blocked and an error will be raised \n",
    "     \n",
    "# user Rlock to acquire() multiple times , keep details of running thread \n",
    "# syntax : New Lock : Rlock \n",
    "\n",
    "\n",
    "                      \n",
    "                       \n",
    "                    \n",
    "\n",
    "\n",
    "\n",
    "\n",
    "\n"
   ]
  },
  {
   "cell_type": "code",
   "execution_count": 18,
   "id": "ce742846",
   "metadata": {},
   "outputs": [
    {
     "name": "stdout",
     "output_type": "stream",
     "text": [
      "Code for fetching first line\n",
      "Code for fetching second line\n",
      "Code for fetching first line\n"
     ]
    }
   ],
   "source": [
    "\"\"\" \n",
    "What is the need of Rlock ? \n",
    "\n",
    "\n",
    "\"\"\"\n",
    "from threading import * \n",
    "from time import * \n",
    "\n",
    "l = RLock()\n",
    "def get_first_line() : \n",
    "    l.acquire()\n",
    "    print(\"Code for fetching first line\")\n",
    "    l.release()\n",
    "\n",
    "def get_second_line() :\n",
    "    l.acquire()\n",
    "    print(\"Code for fetching second line\") \n",
    "    l.release()\n",
    "\n",
    "\n",
    "def main() :\n",
    "    l.acquire()\n",
    "    get_first_line() ; get_second_line() \n",
    "    l.release()\n",
    "    \n",
    "t1 = Thread(target = main) \n",
    "t1.start() \n",
    "t2 = Thread(target = get_first_line) \n",
    "t2.start()"
   ]
  },
  {
   "cell_type": "code",
   "execution_count": null,
   "id": "db90d5da",
   "metadata": {},
   "outputs": [],
   "source": []
  }
 ],
 "metadata": {
  "kernelspec": {
   "display_name": "Python 3",
   "language": "python",
   "name": "python3"
  },
  "language_info": {
   "codemirror_mode": {
    "name": "ipython",
    "version": 3
   },
   "file_extension": ".py",
   "mimetype": "text/x-python",
   "name": "python",
   "nbconvert_exporter": "python",
   "pygments_lexer": "ipython3",
   "version": "3.13.7"
  }
 },
 "nbformat": 4,
 "nbformat_minor": 5
}
