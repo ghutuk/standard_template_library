{
 "cells": [
  {
   "cell_type": "markdown",
   "id": "7f55d3a4",
   "metadata": {},
   "source": [
    "#numpy \n",
    "fundamental package for scientific computing in python.\n",
    "It provides a multidimensional array object , various derived objects , (such as masked arrays and matrices ) , and an assortment of routines for fast operation on arrays inclusing mathematical , logical , shape manipulation , sorting , selecting ,i/o , discrete fourier transfroms , basic linear algebra , basic statistical operations , random simulation and much more \n",
    "\n",
    "At the core of the NumPy package, it the ndarray object .\n",
    "This encapsulates n-dimensional arrays of homogeneous data types \n",
    "\n",
    "===============================================\n",
    "Numpy arrays have a fixed size at creating , unlike Python list (which can grow dynamically  ). Changing the size of an ndarray will create a new array and delete the original \n",
    "\n",
    "The elements in a numpy array are all required to be of the same data type , and thus will be the same size in memory \n",
    "\n",
    "# numpy arrays facilitate advanced mathematical and other types of operations on large numbers of data , Typically such operations are executed more efficiently and with less code than is possible using python builts in sequences \n",
    "\n",
    "A growing plethora of scientific and mathematcial python based packages are using it \n",
    "It support python sequeneces input they convert such input to numpy arrays prior to processing and they often output numpy arrays\n",
    "# god father of numpy \n",
    "\n"
   ]
  },
  {
   "cell_type": "code",
   "execution_count": 4,
   "id": "71525ab9",
   "metadata": {},
   "outputs": [
    {
     "name": "stdout",
     "output_type": "stream",
     "text": [
      "[1 2 3 4 5 6]\n",
      "<class 'numpy.ndarray'>\n"
     ]
    }
   ],
   "source": [
    "# creating numpy arrays \n",
    "import numpy as np \n",
    "nums = np.array([1,2,3,4,5,6]) \n",
    "print(nums)\n",
    "print(type(nums)) \n"
   ]
  },
  {
   "cell_type": "code",
   "execution_count": 5,
   "id": "4830868f",
   "metadata": {},
   "outputs": [
    {
     "name": "stdout",
     "output_type": "stream",
     "text": [
      "[[1 2 3 4 5]\n",
      " [5 6 7 8 9]]\n"
     ]
    }
   ],
   "source": [
    "# 2d or 3d array \n",
    "d2 = np.array([[1,2,3,4,5] ,[5,6,7,8,9]]) # row and col must have same number of elements\n",
    "print(d2) "
   ]
  },
  {
   "cell_type": "code",
   "execution_count": 6,
   "id": "a2e5f730",
   "metadata": {},
   "outputs": [
    {
     "name": "stdout",
     "output_type": "stream",
     "text": [
      "[1. 2. 3. 4.]\n",
      "[ True  True  True  True  True False]\n"
     ]
    }
   ],
   "source": [
    "# dtype : data type \n",
    "flt = np.array([1,2,3,4] , dtype = float) \n",
    "print(flt) \n",
    "\n",
    "bl = np.array([1,2,3,4,5,0] ,dtype = bool) \n",
    "print(bl) "
   ]
  },
  {
   "cell_type": "code",
   "execution_count": 7,
   "id": "e156c588",
   "metadata": {},
   "outputs": [
    {
     "name": "stdout",
     "output_type": "stream",
     "text": [
      "[1 3 5 7 9]\n"
     ]
    },
    {
     "ename": "ValueError",
     "evalue": "cannot reshape array of size 12 into shape (5,5)",
     "output_type": "error",
     "traceback": [
      "\u001b[31m---------------------------------------------------------------------------\u001b[39m",
      "\u001b[31mValueError\u001b[39m                                Traceback (most recent call last)",
      "\u001b[36mCell\u001b[39m\u001b[36m \u001b[39m\u001b[32mIn[7]\u001b[39m\u001b[32m, line 5\u001b[39m\n\u001b[32m      2\u001b[39m rng = np.arange(\u001b[32m1\u001b[39m,\u001b[32m11\u001b[39m,\u001b[32m2\u001b[39m) \u001b[38;5;66;03m# start , end , step \u001b[39;00m\n\u001b[32m      3\u001b[39m \u001b[38;5;28mprint\u001b[39m(rng) \n\u001b[32m----> \u001b[39m\u001b[32m5\u001b[39m rng1 = \u001b[43mnp\u001b[49m\u001b[43m.\u001b[49m\u001b[43marange\u001b[49m\u001b[43m(\u001b[49m\u001b[32;43m1\u001b[39;49m\u001b[43m,\u001b[49m\u001b[32;43m13\u001b[39;49m\u001b[43m)\u001b[49m\u001b[43m.\u001b[49m\u001b[43mreshape\u001b[49m\u001b[43m(\u001b[49m\u001b[32;43m5\u001b[39;49m\u001b[43m,\u001b[49m\u001b[32;43m5\u001b[39;49m\u001b[43m)\u001b[49m \n\u001b[32m      6\u001b[39m \u001b[38;5;28mprint\u001b[39m(rng1) \n",
      "\u001b[31mValueError\u001b[39m: cannot reshape array of size 12 into shape (5,5)"
     ]
    }
   ],
   "source": [
    "# np.arange() : similar to range() of python \n",
    "rng = np.arange(1,11,2) # start , end , step \n",
    "print(rng) \n",
    "\n",
    "rng1 = np.arange(1,13).reshape(5,5) \n",
    "print(rng1) "
   ]
  },
  {
   "cell_type": "code",
   "execution_count": null,
   "id": "fa97ba69",
   "metadata": {},
   "outputs": [
    {
     "name": "stdout",
     "output_type": "stream",
     "text": [
      "[[1. 1. 1. 1. 1.]\n",
      " [1. 1. 1. 1. 1.]\n",
      " [1. 1. 1. 1. 1.]]\n",
      "[[0. 0. 0. 0.]\n",
      " [0. 0. 0. 0.]\n",
      " [0. 0. 0. 0.]]\n",
      "[[0.53134368 0.42202038 0.08710005 0.95888808]\n",
      " [0.16372654 0.9486483  0.54855832 0.27468936]\n",
      " [0.07428538 0.57005159 0.47380242 0.11817179]]\n"
     ]
    }
   ],
   "source": [
    "# np.ones and np.zeros \n",
    "\n",
    "ones = np.ones((3,5)) ;\n",
    "print(ones) \n",
    "# to initialize the array , used mostly in neural network \n",
    "\n",
    "zeros = np.zeros((3,4)) \n",
    "print(zeros) \n",
    "\n",
    "# np.random() \n",
    "rand = np.random.random((3,4)) # 0<=x <=1\n",
    "print(rand) "
   ]
  },
  {
   "cell_type": "markdown",
   "id": "17b91b13",
   "metadata": {},
   "source": []
  },
  {
   "cell_type": "code",
   "execution_count": null,
   "id": "4fdc8d3f",
   "metadata": {},
   "outputs": [
    {
     "name": "stdout",
     "output_type": "stream",
     "text": [
      "[-10  -8  -6  -4  -2   1   3   5   7  10]\n"
     ]
    }
   ],
   "source": [
    "# np.linspace : linear spaced\n",
    "\n",
    "ls = np.linspace(-10 ,10,10 , dtype = int ) # lower range , upper range , number of elements\n",
    "print(ls) \n",
    "# equal distance par points generate karge \n",
    "# dtype = int \n"
   ]
  },
  {
   "cell_type": "code",
   "execution_count": null,
   "id": "a21e73b5",
   "metadata": {},
   "outputs": [
    {
     "name": "stdout",
     "output_type": "stream",
     "text": [
      "[[1. 0. 0.]\n",
      " [0. 1. 0.]\n",
      " [0. 0. 1.]]\n"
     ]
    }
   ],
   "source": [
    "# np.identity() : identity matrix\n",
    "\n"
   ]
  },
  {
   "cell_type": "code",
   "execution_count": null,
   "id": "07a12dc7",
   "metadata": {},
   "outputs": [
    {
     "name": "stdout",
     "output_type": "stream",
     "text": [
      "[[1. 0. 0.]\n",
      " [0. 1. 0.]\n",
      " [0. 0. 1.]]\n",
      "2\n",
      "(3, 3)\n",
      "9\n",
      "8\n",
      "float64\n"
     ]
    }
   ],
   "source": [
    "idn = np.identity(3) # 3x3        \n",
    "print(idn )                     \n",
    "print(idn.ndim)  # dimension   \n",
    "print(idn.shape )# row and column  \n",
    "print(idn.size) # total number of elements \n",
    "print(idn.itemsize) # 8  size of each items in bytes \n",
    "\n",
    "print(idn.dtype)# tells about the data types\n",
    "      # float64 \n",
    "\n"
   ]
  },
  {
   "cell_type": "code",
   "execution_count": null,
   "id": "86ccfa40",
   "metadata": {},
   "outputs": [
    {
     "name": "stdout",
     "output_type": "stream",
     "text": [
      "[1 2 3 4 5 6 7 8]\n",
      "8\n"
     ]
    }
   ],
   "source": [
    "# itemsize \n",
    "nums = np.array([1,2,3,4,5,6,7,8] ) \n",
    "print(nums)  \n",
    "\n",
    "print(nums.itemsize) # number of elements  \n",
    "\n"
   ]
  },
  {
   "cell_type": "code",
   "execution_count": null,
   "id": "6354bb9a",
   "metadata": {},
   "outputs": [
    {
     "name": "stdout",
     "output_type": "stream",
     "text": [
      "<class 'numpy.ndarray'>\n",
      "<class 'numpy.float64'>\n",
      "<class 'numpy.int32'>\n"
     ]
    }
   ],
   "source": [
    "# changing data type of existing numpy array \n",
    "i = idn.astype(np.int32) # do not make changes in original array \n",
    "print(type(idn)) \n",
    "print(type(idn[0][0]) )\n",
    "print(type(i[0][0]))"
   ]
  },
  {
   "cell_type": "code",
   "execution_count": null,
   "id": "c53a0216",
   "metadata": {},
   "outputs": [
    {
     "name": "stdout",
     "output_type": "stream",
     "text": [
      "[[ 0  5 10 15]\n",
      " [20 25 30 35]\n",
      " [40 45 50 55]]\n",
      "[[ True  True  True  True]\n",
      " [ True  True  True  True]\n",
      " [ True  True  True  True]]\n",
      "[[False False False False]\n",
      " [False False False  True]\n",
      " [ True  True  True  True]]\n",
      "[[False False False False]\n",
      " [False False False  True]\n",
      " [ True  True  True  True]]\n",
      "[[12 14 16 18]\n",
      " [20 22 24 26]\n",
      " [28 30 32 34]]\n",
      "[[12 14 16 18]\n",
      " [20 22 24 26]\n",
      " [28 30 32 34]]\n"
     ]
    }
   ],
   "source": [
    "# array operations \n",
    "a1 = np.arange(12).reshape(3,4) \n",
    "a2 = np.arange(12,24).reshape(3,4) \n",
    "\n",
    "# scalar operation \n",
    "a3 = a1*5\n",
    "print(a3) \n",
    "# all the arithmetic operators will work\n",
    "\n",
    "# relational operator \n",
    "print(a2>5) # return the boolean array , True or False \n",
    "print(a1>6) \n",
    "print(a3>30) \n",
    "\n",
    "#  vector operation : b/w numpy array \n",
    "a4 = a1+a2 # explain it \n",
    "a5 = a1.__add__(a2) # yes it is working \n",
    "\n",
    "print(a4) \n",
    "print(a5) "
   ]
  },
  {
   "cell_type": "code",
   "execution_count": null,
   "id": "9164f4ee",
   "metadata": {},
   "outputs": [
    {
     "name": "stdout",
     "output_type": "stream",
     "text": [
      "2.0\n",
      "78.0\n",
      "289.0\n",
      "224274645504.0\n"
     ]
    },
    {
     "data": {
      "text/plain": [
       "array([  576., 16614., 23436.])"
      ]
     },
     "execution_count": 34,
     "metadata": {},
     "output_type": "execute_result"
    }
   ],
   "source": [
    "# min / max / sum / prod \n",
    "a1 = np.random.random((3,3)) \n",
    "a1 = np.round(a1*100) \n",
    "print(np.min(a1)) \n",
    "print(np.max(a1)) \n",
    "print(np.sum(a1)) \n",
    "print(np.prod(a1)) \n",
    "# 0-> col and row -> 1 \n",
    "np.prod(a1 , axis =0)"
   ]
  },
  {
   "cell_type": "code",
   "execution_count": null,
   "id": "c8874b96",
   "metadata": {},
   "outputs": [
    {
     "name": "stdout",
     "output_type": "stream",
     "text": [
      "32.111111111111114\n",
      "24.0\n",
      "27.18432736561616\n",
      "738.9876543209876\n"
     ]
    }
   ],
   "source": [
    "# mean / median / std / var \n",
    "print(np.mean(a1)) \n",
    "print(np.median(a1)) \n",
    "print(np.std(a1)) \n",
    "print(np.var(a1)) "
   ]
  },
  {
   "cell_type": "code",
   "execution_count": null,
   "id": "1f878995",
   "metadata": {},
   "outputs": [
    {
     "name": "stdout",
     "output_type": "stream",
     "text": [
      "-0.8414709848078965\n",
      "0.5253219888177297\n",
      "0.320040389379563\n"
     ]
    }
   ],
   "source": [
    "# trigonometric functions\n",
    "print(np.sin(-1)) \n",
    "print(np.cos(45)) \n",
    "print(np.tan(60)) \n"
   ]
  },
  {
   "cell_type": "code",
   "execution_count": null,
   "id": "e4111c38",
   "metadata": {},
   "outputs": [
    {
     "name": "stdout",
     "output_type": "stream",
     "text": [
      "[[ 396.  505.  614.  723.]\n",
      " [ 260.  306.  352.  398.]\n",
      " [ 744.  878. 1012. 1146.]]\n"
     ]
    }
   ],
   "source": [
    "# dot product of numpy array 3,4 4,3 - > 3,3 \n",
    "a2 = np.arange(12).reshape(3,4) \n",
    "a3 = np.arange(12,24).reshape(4,3) \n",
    "a4 = np.dot(a1, a2) # dot product used in machine learning \n",
    "print(a4) # used in machine learnign "
   ]
  },
  {
   "cell_type": "code",
   "execution_count": null,
   "id": "900b8d0c",
   "metadata": {},
   "outputs": [
    {
     "name": "stdout",
     "output_type": "stream",
     "text": [
      "[[70.69466547 22.98683075 99.43140521]\n",
      " [73.69693002 93.84758256  2.1317943 ]]\n",
      "[[ 71.  23. 100.]\n",
      " [ 74.  94.   3.]]\n",
      "[[70. 22. 99.]\n",
      " [73. 93.  2.]]\n"
     ]
    }
   ],
   "source": [
    "# round / floor / ceil \n",
    "a4 = np.random.random((2,3))*100\n",
    "print(a4) \n",
    "# floor  : 6.9 -> 6\n",
    "# ceil : 6.1 - > 7\n",
    "\n",
    "print(np.ceil(a4)) \n",
    "print(np.floor(a4)) "
   ]
  },
  {
   "cell_type": "code",
   "execution_count": 9,
   "id": "fe1915ce",
   "metadata": {},
   "outputs": [
    {
     "name": "stdout",
     "output_type": "stream",
     "text": [
      "[[ 0  1  2  3]\n",
      " [ 4  5  6  7]\n",
      " [ 8  9 10 11]]\n",
      "[[[0 1]\n",
      "  [2 3]]\n",
      "\n",
      " [[4 5]\n",
      "  [6 7]]]\n",
      "9\n",
      "0\n",
      "6\n",
      "4\n",
      "[[[0 1]\n",
      "  [2 3]]\n",
      "\n",
      " [[4 5]\n",
      "  [6 7]]]\n",
      "5\n",
      "5\n",
      "0\n",
      "6\n"
     ]
    }
   ],
   "source": [
    "# indexing and slicing \n",
    "a1 = np.arange(10) \n",
    "a2 = np.arange(12).reshape(3,4) \n",
    "a3 = np.arange(8).reshape(2,2,2) \n",
    "print(a2) \n",
    "print(a3) \n",
    "\n",
    "\n",
    "# last item of a1 \n",
    "print(a1[-1]) \n",
    "print(a1[0]) \n",
    "print(a2[1][2] ) # 6\n",
    "print(a2[1,0]) # fancy indexing [row , coloumn]\n",
    "\n",
    "print(a3) # 3d tensor \n",
    "# fetch 5 \n",
    "print(a3[1,0,1]) # [indexoftwod array , row , col]\n",
    "print(a3[1][0][1]) # explain the working \n",
    "\n",
    "print(a3[0,0,0])\n",
    "print(a3[1,1,0])\n"
   ]
  },
  {
   "cell_type": "code",
   "execution_count": null,
   "id": "521ebb98",
   "metadata": {},
   "outputs": [
    {
     "name": "stdout",
     "output_type": "stream",
     "text": [
      "[0 1 2 3 4 5 6 7 8 9]\n",
      "[2 3 4]\n",
      "[8 7 6]\n",
      "[2 4 6]\n",
      "[0 1 2 3]\n",
      "[ 2  6 10]\n",
      "[[ 5  6]\n",
      " [ 9 10]]\n",
      "[[ 0  3]\n",
      " [ 8 11]]\n",
      "[[ 1  3]\n",
      " [ 9 11]]\n",
      "[4 7]\n"
     ]
    }
   ],
   "source": [
    "# slicing : helps to fetch multiple items \n",
    "print(a1) \n",
    "print(a1[2:5]) \n",
    "print(a1[-2:-5:-1]) # as same as python indexing \n",
    "print(a1[2:7:2])\n",
    "\n",
    "# slicing on two d array \n",
    "print(a2[0,:]) \n",
    "print(a2[: ,2]) # all row and 2nd column \n",
    "print(a2[1: ,1:3]) \n",
    "\n",
    "# all corner element \n",
    "print(a2[::2,::3 ] )\n",
    "# 1 3 9 11\n",
    "print(a2[::2 , 1::2])\n",
    "# 4 7 \n",
    "print(a2[1,::3])\n"
   ]
  },
  {
   "cell_type": "code",
   "execution_count": null,
   "id": "62e3c321",
   "metadata": {},
   "outputs": [
    {
     "name": "stdout",
     "output_type": "stream",
     "text": [
      "[[[ 0  1  2]\n",
      "  [ 3  4  5]\n",
      "  [ 6  7  8]]\n",
      "\n",
      " [[ 9 10 11]\n",
      "  [12 13 14]\n",
      "  [15 16 17]]\n",
      "\n",
      " [[18 19 20]\n",
      "  [21 22 23]\n",
      "  [24 25 26]]]\n",
      "[[ 9 10 11]\n",
      " [12 13 14]\n",
      " [15 16 17]]\n",
      "[[[ 0  1  2]\n",
      "  [ 3  4  5]\n",
      "  [ 6  7  8]]\n",
      "\n",
      " [[18 19 20]\n",
      "  [21 22 23]\n",
      "  [24 25 26]]]\n",
      "[3 4 5]\n",
      "[10 13 16]\n",
      "[[22 23]\n",
      " [25 26]]\n",
      "[[ 0  2]\n",
      " [18 20]]\n",
      "******************************\n",
      "[[0 1 2]\n",
      " [3 4 5]\n",
      " [6 7 8]]\n",
      "[[ 9 10 11]\n",
      " [12 13 14]\n",
      " [15 16 17]]\n",
      "[[18 19 20]\n",
      " [21 22 23]\n",
      " [24 25 26]]\n",
      "******************************\n",
      "0\n",
      "1\n",
      "2\n",
      "3\n",
      "4\n",
      "5\n",
      "6\n",
      "7\n",
      "8\n",
      "9\n",
      "10\n",
      "11\n",
      "12\n",
      "13\n",
      "14\n",
      "15\n",
      "16\n",
      "17\n",
      "18\n",
      "19\n",
      "20\n",
      "21\n",
      "22\n",
      "23\n",
      "24\n",
      "25\n",
      "26\n"
     ]
    }
   ],
   "source": [
    "a3 = np.arange(27).reshape(3,3,3)\n",
    "print(a3)\n",
    "\n",
    "# middle two d array \n",
    "print(a3[1]) \n",
    "# first and last \n",
    "print(a3[::2])\n",
    "\n",
    "# print second row of first 2d array \n",
    "print(a3[0,1,:]) \n",
    "print(a3[1,:,1])\n",
    "print(a3[2 , 1: ,1:])\n",
    "print(a3[0::2 ,0,0::2])\n",
    "print(30*\"*\")\n",
    "# looping over 2d \n",
    "for i in a3 : \n",
    "    print(i) \n",
    "\n",
    "print(30*\"*\") \n",
    "for i in np.nditer(a3) : \n",
    "    print(i)\n",
    "\n",
    "# 3d array ko pahale 1d array me convert kar rha hain uske baad one by one elements ko print kar rha hain \n",
    "#   "
   ]
  },
  {
   "cell_type": "code",
   "execution_count": 44,
   "id": "340e1240",
   "metadata": {},
   "outputs": [
    {
     "name": "stdout",
     "output_type": "stream",
     "text": [
      "[[[ 0  1  2]\n",
      "  [ 3  4  5]\n",
      "  [ 6  7  8]]\n",
      "\n",
      " [[ 9 10 11]\n",
      "  [12 13 14]\n",
      "  [15 16 17]]\n",
      "\n",
      " [[18 19 20]\n",
      "  [21 22 23]\n",
      "  [24 25 26]]]\n",
      "****************************************\n",
      "[[[ 0  9 18]\n",
      "  [ 3 12 21]\n",
      "  [ 6 15 24]]\n",
      "\n",
      " [[ 1 10 19]\n",
      "  [ 4 13 22]\n",
      "  [ 7 16 25]]\n",
      "\n",
      " [[ 2 11 20]\n",
      "  [ 5 14 23]\n",
      "  [ 8 17 26]]]\n",
      "[ 0  1  2  3  4  5  6  7  8  9 10 11 12 13 14 15 16 17 18 19 20 21 22 23\n",
      " 24 25 26]\n"
     ]
    }
   ],
   "source": [
    "# reshape \n",
    "# transpose : col <-> row interchange \n",
    "\n",
    "print(a3)\n",
    "print(40*'*')\n",
    "t = np.transpose(a3) # a3.T is alternative syntax \n",
    "\n",
    "print(t) # new array is formed \n",
    "\n",
    "# ravel : nd array ko 1d array me badlta hain \n",
    "a3_1 = a3.ravel()\n",
    "print(a3_1)  "
   ]
  },
  {
   "cell_type": "code",
   "execution_count": 47,
   "id": "6f9d3744",
   "metadata": {},
   "outputs": [
    {
     "name": "stdout",
     "output_type": "stream",
     "text": [
      "[[ 0  1  2  3 12 13 14 15]\n",
      " [ 4  5  6  7 16 17 18 19]\n",
      " [ 8  9 10 11 20 21 22 23]]\n",
      "[[12 13 14 15]\n",
      " [16 17 18 19]\n",
      " [20 21 22 23]\n",
      " [ 0  1  2  3]\n",
      " [ 4  5  6  7]\n",
      " [ 8  9 10 11]]\n"
     ]
    }
   ],
   "source": [
    "# horizantal stacking \n",
    "# vertical stacking \n",
    "\n",
    "a4 = np.arange(12).reshape(3,4) \n",
    "a5 = np.arange(12,24).reshape(3,4) \n",
    "a6 = np.hstack((a4,a5)) # tuple as an argument \n",
    "print(a6)\n",
    "a7 = np.vstack((a5 ,a4))\n",
    "print(a7)  \n",
    "# useful for data processing , coming from multiple sources \n",
    "# shape must be same"
   ]
  },
  {
   "cell_type": "code",
   "execution_count": 50,
   "id": "1df374ac",
   "metadata": {},
   "outputs": [
    {
     "name": "stdout",
     "output_type": "stream",
     "text": [
      "[array([[0, 1],\n",
      "       [4, 5],\n",
      "       [8, 9]]), array([[ 2,  3],\n",
      "       [ 6,  7],\n",
      "       [10, 11]])]\n",
      "[12 13 14 15] \n",
      "[16 17 18 19] \n",
      "[20 21 22 23] \n",
      "\n"
     ]
    }
   ],
   "source": [
    "#spliting \n",
    "a7 = np.hsplit(a4, 2) # array name and number of equal part \n",
    "print(a7)\n",
    "a8 = np.vsplit(a5 ,3) \n",
    "for i in a8 :\n",
    "    for j in i : \n",
    "        print(j , end =\" \") \n",
    "    print() \n",
    "print()"
   ]
  },
  {
   "cell_type": "code",
   "execution_count": null,
   "id": "929abb49",
   "metadata": {},
   "outputs": [],
   "source": []
  }
 ],
 "metadata": {
  "kernelspec": {
   "display_name": "Python 3",
   "language": "python",
   "name": "python3"
  },
  "language_info": {
   "codemirror_mode": {
    "name": "ipython",
    "version": 3
   },
   "file_extension": ".py",
   "mimetype": "text/x-python",
   "name": "python",
   "nbconvert_exporter": "python",
   "pygments_lexer": "ipython3",
   "version": "3.13.7"
  }
 },
 "nbformat": 4,
 "nbformat_minor": 5
}
