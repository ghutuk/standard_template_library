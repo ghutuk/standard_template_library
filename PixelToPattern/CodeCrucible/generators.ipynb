{
 "cells": [
  {
   "cell_type": "markdown",
   "id": "ec385a74",
   "metadata": {},
   "source": [
    "# Generators are the simple way to create an iterator "
   ]
  },
  {
   "cell_type": "code",
   "execution_count": null,
   "id": "3172bd3e",
   "metadata": {},
   "outputs": [],
   "source": [
    "# generator ke element ko sirf ek baar hi access kar skte hain \n",
    "# uske baad wo elements destroy ho jate hain \n",
    "# fir unko dubara access nahi kar sakenge \n",
    "l = [x for x in range(100000)] \n",
    "for i in l :\n",
    "    print(i**2) "
   ]
  },
  {
   "cell_type": "code",
   "execution_count": null,
   "id": "eff07694",
   "metadata": {},
   "outputs": [],
   "source": [
    "# range() is a class in python \n",
    "# a simple example of python generator \n",
    "# yield : value ko return kar ke wapas usi function me aa jata hain \n",
    "def gen_demo() : \n",
    "    yield 1\n",
    "    yield 2 \n",
    "    yield 3\n",
    "\n",
    "# no call of gen_demo()\n",
    "gen  = gen_demo() # generator object is assigned to gen \n",
    "# print(next(gen)) \n",
    "# print(next(gen)) \n",
    "print(next(gen)) \n",
    "# print(next(gen))\n",
    "\n",
    "# or \n",
    "for i in gen : # gen_demo() yaha par call hoga \n",
    "\n",
    "    print(i)"
   ]
  },
  {
   "cell_type": "code",
   "execution_count": null,
   "id": "a2761384",
   "metadata": {},
   "outputs": [],
   "source": [
    "# yield vs return \n"
   ]
  },
  {
   "cell_type": "code",
   "execution_count": 8,
   "id": "b8424902",
   "metadata": {},
   "outputs": [
    {
     "name": "stdout",
     "output_type": "stream",
     "text": [
      "1\n",
      "2\n",
      "3\n",
      "4\n",
      "5\n",
      "6\n",
      "7\n",
      "8\n",
      "9\n",
      "10\n"
     ]
    }
   ],
   "source": [
    "# range using generator \n",
    "def rng(start , end) :\n",
    "    for i in range(start , end) :\n",
    "        yield i \n",
    "\n",
    "gen = rng(1,11) \n",
    "for i in gen : \n",
    "    print(i)"
   ]
  },
  {
   "cell_type": "code",
   "execution_count": null,
   "id": "43b714c5",
   "metadata": {},
   "outputs": [],
   "source": [
    "# Generator Expression \n",
    "# list comprehension \n",
    "l = [ i**2 for i in range(1,101)] \n"
   ]
  },
  {
   "cell_type": "code",
   "execution_count": null,
   "id": "480c3663",
   "metadata": {},
   "outputs": [
    {
     "name": "stdout",
     "output_type": "stream",
     "text": [
      "1 4 9 16 25 36 49 64 81 100 121 144 169 196 225 256 289 324 361 400 441 484 529 576 625 676 729 784 841 900 961 1024 1089 1156 1225 1296 1369 1444 1521 1600 1681 1764 1849 1936 2025 2116 2209 2304 2401 2500 2601 2704 2809 2916 3025 3136 3249 3364 3481 3600 3721 3844 3969 4096 4225 4356 4489 4624 4761 4900 5041 5184 5329 5476 5625 5776 5929 6084 6241 6400 6561 6724 6889 7056 7225 7396 7569 7744 7921 8100 8281 8464 8649 8836 9025 9216 9409 9604 9801 10000 \n",
      "This is new line\n"
     ]
    }
   ],
   "source": [
    "# generator Expression \n",
    "gen = (i**2 for i in range(1, 101)) \n",
    "for i in gen :\n",
    "    print (i , end = \" \") \n",
    "\n",
    "print('\\nThis is new line') \n",
    "\n",
    "# output will be blankkkkkkkkkkk\n",
    "for i in gen : \n",
    "    print(i , end  = \" \") \n",
    "\n",
    "# an image can be converted into numpy array "
   ]
  },
  {
   "cell_type": "code",
   "execution_count": null,
   "id": "1bc78c89",
   "metadata": {},
   "outputs": [],
   "source": [
    "# benifit : \n",
    "    use of ease \n",
    "    memory efficient \n",
    "    Representing infinite streams \n",
    "    Chaining Generator \n"
   ]
  },
  {
   "cell_type": "code",
   "execution_count": 1,
   "id": "ee81d614",
   "metadata": {},
   "outputs": [
    {
     "name": "stdout",
     "output_type": "stream",
     "text": [
      "4895\n"
     ]
    }
   ],
   "source": [
    "# chaining generator \n",
    "import time \n",
    "\n",
    "def fibonacci(nums) :\n",
    "    x,y = 0,1 \n",
    "    for _ in range(nums) :\n",
    "        x,y = y , x+y \n",
    "        yield x \n",
    "\n",
    "def sqaure(nums) :\n",
    "    for num in nums : \n",
    "        yield num**2 \n",
    "print(sum(sqaure(fibonacci(10)))) \n",
    "time.sleep(10) "
   ]
  },
  {
   "cell_type": "code",
   "execution_count": null,
   "id": "c1549d61",
   "metadata": {},
   "outputs": [],
   "source": []
  },
  {
   "cell_type": "code",
   "execution_count": null,
   "id": "66d443f3",
   "metadata": {},
   "outputs": [],
   "source": []
  },
  {
   "cell_type": "code",
   "execution_count": null,
   "id": "47a6dbff",
   "metadata": {},
   "outputs": [],
   "source": []
  },
  {
   "cell_type": "code",
   "execution_count": null,
   "id": "6cf8d217",
   "metadata": {},
   "outputs": [],
   "source": []
  }
 ],
 "metadata": {
  "kernelspec": {
   "display_name": "Python 3",
   "language": "python",
   "name": "python3"
  },
  "language_info": {
   "codemirror_mode": {
    "name": "ipython",
    "version": 3
   },
   "file_extension": ".py",
   "mimetype": "text/x-python",
   "name": "python",
   "nbconvert_exporter": "python",
   "pygments_lexer": "ipython3",
   "version": "3.13.7"
  }
 },
 "nbformat": 4,
 "nbformat_minor": 5
}
