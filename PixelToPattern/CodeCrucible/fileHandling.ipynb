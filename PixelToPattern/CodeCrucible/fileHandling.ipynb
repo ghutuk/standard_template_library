{
 "cells": [
  {
   "cell_type": "markdown",
   "id": "1f0cc5d8",
   "metadata": {},
   "source": [
    "Type of data used for i/o \n",
    "    Text : sequence of unicode chars \n",
    "    Binary -   1234 as sequence of bytes of its binary equivalent\n",
    "\n",
    "\n",
    "How file io is done in python ? \n",
    "    Opea file \n",
    "    read/write file \n",
    "    close the file \n",
    "    "
   ]
  },
  {
   "cell_type": "code",
   "execution_count": 21,
   "id": "0122d992",
   "metadata": {},
   "outputs": [
    {
     "ename": "ValueError",
     "evalue": "I/O operation on closed file.",
     "output_type": "error",
     "traceback": [
      "\u001b[31m---------------------------------------------------------------------------\u001b[39m",
      "\u001b[31mValueError\u001b[39m                                Traceback (most recent call last)",
      "\u001b[36mCell\u001b[39m\u001b[36m \u001b[39m\u001b[32mIn[21]\u001b[39m\u001b[32m, line 8\u001b[39m\n\u001b[32m      6\u001b[39m f.close() \n\u001b[32m      7\u001b[39m \u001b[38;5;66;03m# since file is closed , next line will not work\u001b[39;00m\n\u001b[32m----> \u001b[39m\u001b[32m8\u001b[39m \u001b[43mf\u001b[49m\u001b[43m.\u001b[49m\u001b[43mwrite\u001b[49m\u001b[43m(\u001b[49m\u001b[33;43m\"\u001b[39;49m\u001b[33;43mAbcd\u001b[39;49m\u001b[33;43m\"\u001b[39;49m\u001b[43m)\u001b[49m \n",
      "\u001b[31mValueError\u001b[39m: I/O operation on closed file."
     ]
    }
   ],
   "source": [
    "# case 1 : if the file is not present \n",
    "# we can also specify the directory of the file \n",
    "f = open(\"sample.txt\" ,\"w\") \n",
    "f.write(\"Ghutuk kushwaha\") \n",
    "f.write(\" Python Coder\") \n",
    "f.close() \n",
    "# since file is closed , next line will not work\n",
    "f.write(\"Abcd\") "
   ]
  },
  {
   "cell_type": "code",
   "execution_count": null,
   "id": "0496d565",
   "metadata": {},
   "outputs": [],
   "source": [
    "# writing multiline strings \n",
    "f = open('samaple1.txt' , 'w') \n",
    "f.write(\"Namaste Duniya\") \n",
    "f.write(\"\\nHow are you ?\") \n",
    "f.close() \n"
   ]
  },
  {
   "cell_type": "code",
   "execution_count": null,
   "id": "b8222292",
   "metadata": {},
   "outputs": [],
   "source": [
    "# case 2 : file is already exist \n",
    "f = open('sample.txt', 'w') \n",
    "f.write(\"Jay hind Jay Bharat\" ) \n",
    "f.close() \n",
    "\n",
    "# purana content hat jata hai aur naya content add ho jata hain \n",
    "\n"
   ]
  },
  {
   "cell_type": "code",
   "execution_count": null,
   "id": "b4601d99",
   "metadata": {},
   "outputs": [],
   "source": [
    "# problem with w  mode \n",
    "# introducing append mode \n",
    "f = open('sample.txt' , 'a') \n",
    "f.write(\"\\nThis is the old content \")\n",
    "f.close() \n"
   ]
  },
  {
   "cell_type": "code",
   "execution_count": null,
   "id": "2d2ddeb5",
   "metadata": {},
   "outputs": [],
   "source": [
    "# write lines \n",
    "l = ['Hello\\n', 'Namaste\\n' , 'Nee Hao\\n' , 'Wannakkam\\n']\n",
    "f = open('sample1.txt' , 'w') \n",
    "f.writelines(l) \n",
    "f.close()  \n",
    "# try out : other than list \n",
    "# f.close() : \n",
    "    # consume memory \n",
    "    # security concern "
   ]
  },
  {
   "cell_type": "code",
   "execution_count": null,
   "id": "d0179c3a",
   "metadata": {},
   "outputs": [
    {
     "name": "stdout",
     "output_type": "stream",
     "text": [
      "Hello\n",
      "Namaste\n",
      "Nee Hao\n",
      "Wannakkam\n",
      "\n"
     ]
    }
   ],
   "source": [
    "# reading from a file \n",
    "# using read() : \n",
    "f = open('sample1.txt' , 'r') \n",
    "filecontent = f.read() # in form of string\n",
    "f.close() \n",
    "print(filecontent) \n"
   ]
  },
  {
   "cell_type": "code",
   "execution_count": null,
   "id": "685443d1",
   "metadata": {},
   "outputs": [
    {
     "name": "stdout",
     "output_type": "stream",
     "text": [
      "Hello\n",
      "Namaste\n",
      "N\n"
     ]
    }
   ],
   "source": [
    "# reading upto n character \n",
    "\n",
    "f = open('sample1.txt' , 'r') \n",
    "filecontent = f.read(15) # in form of string\n",
    "f.close() \n",
    "print(filecontent) "
   ]
  },
  {
   "cell_type": "code",
   "execution_count": null,
   "id": "2562b46b",
   "metadata": {},
   "outputs": [
    {
     "name": "stdout",
     "output_type": "stream",
     "text": [
      "Hello\n",
      "\n",
      "Namaste\n",
      "\n"
     ]
    }
   ],
   "source": [
    "# reading line by line \n",
    "\n",
    "f = open('sample1.txt' , 'r')\n",
    "l1 = f.readline()\n",
    "l2 = f.readline() \n",
    "f.close() \n",
    "print(l1) \n",
    "print(l2)\n",
    "# y two line changes? \n",
    "# readline -> \\n\n",
    "# print() -> \\n \n",
    "# readline -> when the file is quite large and can't accomodated in memory \n"
   ]
  },
  {
   "cell_type": "code",
   "execution_count": null,
   "id": "decb48e4",
   "metadata": {},
   "outputs": [
    {
     "name": "stdout",
     "output_type": "stream",
     "text": [
      "Hello\n",
      " Namaste\n",
      " Nee Hao\n",
      " Wannakkam\n",
      " "
     ]
    }
   ],
   "source": [
    "# reading entire using readline \n",
    "\n",
    "f = open('sample1.txt' , 'r') \n",
    "# while( f.readline() != '') : \n",
    "#     print(f.readline()) \n",
    "# f.close() \n",
    "\n",
    "\n",
    "while (True) : \n",
    "    data = f.readline() \n",
    "    if(data == \"\") : \n",
    "        break \n",
    "    else :\n",
    "        print(data, end =\" \") \n",
    "f.close() "
   ]
  },
  {
   "cell_type": "code",
   "execution_count": null,
   "id": "6ae00985",
   "metadata": {},
   "outputs": [],
   "source": [
    "Using Context Manager (with) \n",
    "    it's a good idea to close a file after usage as it will free up memory resources \n",
    "if we don't close it , garbase collector would close it \n",
    "with keyword closes the file as soon as the usage is over \n"
   ]
  },
  {
   "cell_type": "code",
   "execution_count": null,
   "id": "c6a90569",
   "metadata": {},
   "outputs": [],
   "source": [
    "# with \n",
    "with open('sample1.txt0' ,'a') as file : \n",
    "    file.write(\"Jay Hind Jay Bharat\") \n",
    "\n",
    "# no need to close the file \n"
   ]
  },
  {
   "cell_type": "code",
   "execution_count": null,
   "id": "21641b87",
   "metadata": {},
   "outputs": [
    {
     "name": "stdout",
     "output_type": "stream",
     "text": [
      "Hello\n",
      "Namaste\n",
      "Nee Hao\n",
      "Wannakkam\n",
      "\n"
     ]
    }
   ],
   "source": [
    "# try f.read() using with \n",
    "with open('sample1.txt' ,'r') as file : \n",
    "    content = file.read() \n",
    "print(content) "
   ]
  },
  {
   "cell_type": "code",
   "execution_count": null,
   "id": "ec98b6c4",
   "metadata": {},
   "outputs": [
    {
     "name": "stdout",
     "output_type": "stream",
     "text": [
      "Hello\n",
      "Nama\n",
      "ste\n",
      "Nee Ha\n",
      "o\n",
      "Wannakka\n",
      "m\n",
      "\n"
     ]
    }
   ],
   "source": [
    "# moving withing a file 10 char then 10 char ... \n",
    "with open(\"sample1.txt\", \"r\") as file : \n",
    "    print(file.read(10)) # it will print first 10 character \n",
    "    print(file.read(10)) \n",
    "    print(file.read(10)) \n",
    "    print(file.read(10))\n",
    "    \n",
    "# benefit : to load a big file in memory \n"
   ]
  },
  {
   "cell_type": "code",
   "execution_count": 25,
   "id": "47d7686e",
   "metadata": {},
   "outputs": [],
   "source": [
    "big_l = ['Namaste Duniya' for i in range(1000)] \n",
    "with open(\"bigfile.txt\" ,'w') as file : \n",
    "    file.writelines(big_l)\n",
    "\n"
   ]
  },
  {
   "cell_type": "code",
   "execution_count": null,
   "id": "2cf536a1",
   "metadata": {},
   "outputs": [
    {
     "name": "stdout",
     "output_type": "stream",
     "text": [
      "niyaNamast***yaNamaste ***Namaste Du***maste Duni***ste Duniya***e DuniyaNa***DuniyaNama***niyaNamast***yaNamaste ***Namaste Du***maste Duni***ste Duniya***e DuniyaNa***DuniyaNama***niyaNamast***yaNamaste ***Namaste Du***maste Duni***ste Duniya***e DuniyaNa***DuniyaNama***niyaNamast***yaNamaste ***Namaste Du***maste Duni***ste Duniya***e DuniyaNa***DuniyaNama***niyaNamast***yaNamaste ***Namaste Du***maste Duni***ste Duniya***e DuniyaNa***DuniyaNama***niyaNamast***yaNamaste ***Namaste Du***maste Duni***ste Duniya***e DuniyaNa***DuniyaNama***niyaNamast***yaNamaste ***Namaste Du***maste Duni***ste Duniya***e DuniyaNa***DuniyaNama***niyaNamast***yaNamaste ***Namaste Du***maste Duni***ste Duniya***e DuniyaNa***DuniyaNama***niyaNamast***yaNamaste ***Namaste Du***maste Duni***ste Duniya***e DuniyaNa***DuniyaNama***niyaNamast***yaNamaste ***Namaste Du***maste Duni***ste Duniya***e DuniyaNa***DuniyaNama***niyaNamast***yaNamaste ***Namaste Du***maste Duni***ste Duniya***e DuniyaNa***DuniyaNama***niyaNamast***yaNamaste ***Namaste Du***maste Duni***ste Duniya***e DuniyaNa***DuniyaNama***niyaNamast***yaNamaste ***Namaste Du***maste Duni***ste Duniya***e DuniyaNa***DuniyaNama***niyaNamast***yaNamaste ***Namaste Du***maste Duni***ste Duniya***e DuniyaNa***DuniyaNama***niyaNamast***yaNamaste ***Namaste Du***maste Duni***ste Duniya***e DuniyaNa***DuniyaNama***niyaNamast***yaNamaste ***Namaste Du***maste Duni***ste Duniya***e DuniyaNa***DuniyaNama***niyaNamast***yaNamaste ***Namaste Du***maste Duni***ste Duniya***e DuniyaNa***DuniyaNama***niyaNamast***yaNamaste ***Namaste Du***maste Duni***ste Duniya***e DuniyaNa***DuniyaNama***niyaNamast***yaNamaste ***Namaste Du***maste Duni***ste Duniya***e DuniyaNa***DuniyaNama***niyaNamast***yaNamaste ***Namaste Du***maste Duni***ste Duniya***e DuniyaNa***DuniyaNama***niyaNamast***yaNamaste ***Namaste Du***maste Duni***ste Duniya***e DuniyaNa***DuniyaNama***niyaNamast***yaNamaste ***Namaste Du***maste Duni***ste Duniya***e DuniyaNa***DuniyaNama***niyaNamast***yaNamaste ***Namaste Du***maste Duni***ste Duniya***e DuniyaNa***DuniyaNama***niyaNamast***yaNamaste ***Namaste Du***maste Duni***ste Duniya***e DuniyaNa***DuniyaNama***niyaNamast***yaNamaste ***Namaste Du***maste Duni***ste Duniya***e DuniyaNa***DuniyaNama***niyaNamast***yaNamaste ***Namaste Du***maste Duni***ste Duniya***e DuniyaNa***DuniyaNama***niyaNamast***yaNamaste ***Namaste Du***maste Duni***ste Duniya***e DuniyaNa***DuniyaNama***niyaNamast***yaNamaste ***Namaste Du***maste Duni***ste Duniya***e DuniyaNa***DuniyaNama***niyaNamast***yaNamaste ***Namaste Du***maste Duni***ste Duniya***e DuniyaNa***DuniyaNama***niyaNamast***yaNamaste ***Namaste Du***maste Duni***ste Duniya***e DuniyaNa***DuniyaNama***niyaNamast***yaNamaste ***Namaste Du***maste Duni***ste Duniya***e DuniyaNa***DuniyaNama***niyaNamast***yaNamaste ***Namaste Du***maste Duni***ste Duniya***e DuniyaNa***DuniyaNama***niyaNamast***yaNamaste ***Namaste Du***maste Duni***ste Duniya***e DuniyaNa***DuniyaNama***niyaNamast***yaNamaste ***Namaste Du***maste Duni***ste Duniya***e DuniyaNa***DuniyaNama***niyaNamast***yaNamaste ***Namaste Du***maste Duni***ste Duniya***e DuniyaNa***DuniyaNama***niyaNamast***yaNamaste ***Namaste Du***maste Duni***ste Duniya***e DuniyaNa***DuniyaNama***niyaNamast***yaNamaste ***Namaste Du***maste Duni***ste Duniya***e DuniyaNa***DuniyaNama***niyaNamast***yaNamaste ***Namaste Du***maste Duni***ste Duniya***e DuniyaNa***DuniyaNama***niyaNamast***yaNamaste ***Namaste Du***maste Duni***ste Duniya***e DuniyaNa***DuniyaNama***niyaNamast***yaNamaste ***Namaste Du***maste Duni***ste Duniya***e DuniyaNa***DuniyaNama***niyaNamast***yaNamaste ***Namaste Du***maste Duni***ste Duniya***e DuniyaNa***DuniyaNama***niyaNamast***yaNamaste ***Namaste Du***maste Duni***ste Duniya***e DuniyaNa***DuniyaNama***niyaNamast***yaNamaste ***Namaste Du***maste Duni***ste Duniya***e DuniyaNa***DuniyaNama***niyaNamast***yaNamaste ***Namaste Du***maste Duni***ste Duniya***e DuniyaNa***DuniyaNama***niyaNamast***yaNamaste ***Namaste Du***maste Duni***ste Duniya***e DuniyaNa***DuniyaNama***niyaNamast***yaNamaste ***Namaste Du***maste Duni***ste Duniya***e DuniyaNa***DuniyaNama***niyaNamast***yaNamaste ***Namaste Du***maste Duni***ste Duniya***e DuniyaNa***DuniyaNama***niyaNamast***yaNamaste ***Namaste Du***maste Duni***ste Duniya***e DuniyaNa***DuniyaNama***niyaNamast***yaNamaste ***Namaste Du***maste Duni***ste Duniya***e DuniyaNa***DuniyaNama***niyaNamast***yaNamaste ***Namaste Du***maste Duni***ste Duniya***e DuniyaNa***DuniyaNama***niyaNamast***yaNamaste ***Namaste Du***maste Duni***ste Duniya***e DuniyaNa***DuniyaNama***niyaNamast***yaNamaste ***Namaste Du***maste Duni***ste Duniya***e DuniyaNa***DuniyaNama***niyaNamast***yaNamaste ***Namaste Du***maste Duni***ste Duniya***e DuniyaNa***DuniyaNama***niyaNamast***yaNamaste ***Namaste Du***maste Duni***ste Duniya***e DuniyaNa***DuniyaNama***niyaNamast***yaNamaste ***Namaste Du***maste Duni***ste Duniya***e DuniyaNa***DuniyaNama***niyaNamast***yaNamaste ***Namaste Du***maste Duni***ste Duniya***e DuniyaNa***DuniyaNama***niyaNamast***yaNamaste ***Namaste Du***maste Duni***ste Duniya***e DuniyaNa***DuniyaNama***niyaNamast***yaNamaste ***Namaste Du***maste Duni***ste Duniya***e DuniyaNa***DuniyaNama***niyaNamast***yaNamaste ***Namaste Du***maste Duni***ste Duniya***e DuniyaNa***DuniyaNama***niyaNamast***yaNamaste ***Namaste Du***maste Duni***ste Duniya***e DuniyaNa***DuniyaNama***niyaNamast***yaNamaste ***Namaste Du***maste Duni***ste Duniya***e DuniyaNa***DuniyaNama***niyaNamast***yaNamaste ***Namaste Du***maste Duni***ste Duniya***e DuniyaNa***DuniyaNama***niyaNamast***yaNamaste ***Namaste Du***maste Duni***ste Duniya***e DuniyaNa***DuniyaNama***niyaNamast***yaNamaste ***Namaste Du***maste Duni***ste Duniya***e DuniyaNa***DuniyaNama***niyaNamast***yaNamaste ***Namaste Du***maste Duni***ste Duniya***e DuniyaNa***DuniyaNama***niyaNamast***yaNamaste ***Namaste Du***maste Duni***ste Duniya***e DuniyaNa***DuniyaNama***niyaNamast***yaNamaste ***Namaste Du***maste Duni***ste Duniya***"
     ]
    }
   ],
   "source": [
    "with open('bigfile.txt' ,'r') as file : \n",
    "    chunk_size = 10 \n",
    "    while(len(file.read(chunk_size)) >0) : \n",
    "        print(file.read(chunk_size) ,end= \"***\") \n",
    "        file.read(chunk_size) \n",
    "        \n",
    "        "
   ]
  },
  {
   "cell_type": "code",
   "execution_count": null,
   "id": "515980db",
   "metadata": {},
   "outputs": [
    {
     "name": "stdout",
     "output_type": "stream",
     "text": [
      "Ghutuk kus\n",
      "hwaha Pytho\n",
      "21\n"
     ]
    }
   ],
   "source": [
    "# seek and tell function in python \n",
    "with open('sample.txt' ,'r') as file : \n",
    "    print(file.read(10)) \n",
    "    print(file.read(11))  \n",
    "    print(file.tell()) # .tell() : tells the current position of file cursor \n",
    "\n",
    "    "
   ]
  },
  {
   "cell_type": "code",
   "execution_count": 31,
   "id": "8b606c1f",
   "metadata": {},
   "outputs": [
    {
     "name": "stdout",
     "output_type": "stream",
     "text": [
      "Ghutuk kus\n",
      "shwaha Pyt\n"
     ]
    }
   ],
   "source": [
    "with open (\"sample.txt\" ,'r') as file: \n",
    "    print(file.read(10)) \n",
    "    file.seek(9) \n",
    "    print(file.read(10)) \n",
    "\n",
    "#file.seek(new_position_of_cursor)"
   ]
  },
  {
   "cell_type": "code",
   "execution_count": 32,
   "id": "a89a61b6",
   "metadata": {},
   "outputs": [],
   "source": [
    "# seek during write \n",
    "with open('sample.txt' ,'w') as file : \n",
    "    file.write(\"Namaste Duinya\") \n",
    "    file.seek(0) \n",
    "    file.write('X') \n",
    "\n",
    "# does not replace the whole content y? \n",
    "# do baar write function as sath chal rha hai aur file sirf ek bar khula hain"
   ]
  },
  {
   "cell_type": "code",
   "execution_count": 35,
   "id": "128d4bbf",
   "metadata": {},
   "outputs": [
    {
     "name": "stdout",
     "output_type": "stream",
     "text": [
      "'charmap' codec can't decode byte 0x8d in position 276255: character maps to <undefined>\n"
     ]
    }
   ],
   "source": [
    "# problem with text files :\n",
    "    # can't work with the files like images \n",
    "    # not good for other data types like int/float /list /tuples \n",
    "try :\n",
    "    with open ('image1.bmp' ,'r') as file : \n",
    "        print(file.read()) # Error \n",
    "except UnicodeDecodeError as err : \n",
    "    print(err) "
   ]
  },
  {
   "cell_type": "code",
   "execution_count": null,
   "id": "605a95e6",
   "metadata": {},
   "outputs": [],
   "source": [
    "# working with binary files \n",
    "with open('image1.bmp' , 'rb' ) as file : \n",
    "    with open('image_copy.bmp' , 'wb') as file_ : \n",
    "        file_.write(file.read() ) \n",
    "\n",
    "# str ->dict not possible \n"
   ]
  },
  {
   "cell_type": "code",
   "execution_count": null,
   "id": "8c1e3ff8",
   "metadata": {},
   "outputs": [],
   "source": [
    "# working with a big binary file \n",
    "    \n",
    "# we can write int /float/ tuple ,dict or set in simple text file "
   ]
  },
  {
   "cell_type": "code",
   "execution_count": null,
   "id": "94c0be03",
   "metadata": {},
   "outputs": [],
   "source": [
    "# serialization and Deserialization \n",
    "#Serialization : process of converting python data types to JSON format \n",
    "#Deserialization : Process of converting json to python data types\n",
    "\n",
    "# what is json ?\n",
    "# javascript on notation : universal data format , understood by almost every programming language \n",
    "\n"
   ]
  },
  {
   "cell_type": "code",
   "execution_count": 37,
   "id": "42340e9b",
   "metadata": {},
   "outputs": [],
   "source": [
    "# serialization using json module \n",
    "\n",
    "import json \n",
    "l = [1,2,3,4,5] \n",
    "with open(\"demo.json\" ,\"w\") as file :\n",
    "    json.dump(l , file) \n",
    "    \n"
   ]
  },
  {
   "cell_type": "code",
   "execution_count": 38,
   "id": "6e6a8f26",
   "metadata": {},
   "outputs": [],
   "source": [
    "d = {\n",
    "    'name' : 'ghutuk' ,\n",
    "    'age' : 22 ,\n",
    "    'gender' : 'male'\n",
    "}\n",
    "\n",
    "with open('demo.json' ,'w') as file : \n",
    "    json.dump(d , file , indent = 4) \n",
    "\n",
    "# dump vs dumps\n",
    "#  "
   ]
  },
  {
   "cell_type": "code",
   "execution_count": 39,
   "id": "c5400514",
   "metadata": {},
   "outputs": [
    {
     "name": "stdout",
     "output_type": "stream",
     "text": [
      "{'name': 'ghutuk', 'age': 22, 'gender': 'male'}\n",
      "<class 'dict'>\n"
     ]
    }
   ],
   "source": [
    "with open('demo.json' ,'r') as file : \n",
    "    d = json.load(file) \n",
    "    print(d) \n",
    "    print(type(d)) "
   ]
  },
  {
   "cell_type": "code",
   "execution_count": null,
   "id": "59843b81",
   "metadata": {},
   "outputs": [
    {
     "name": "stdout",
     "output_type": "stream",
     "text": [
      "[1, 2, 3, 4, 5]\n",
      "<class 'list'>\n"
     ]
    }
   ],
   "source": [
    "# serialize and deserialize tuple \n",
    "import json\n",
    "t = (1,2,3,4,5) \n",
    "with open('demo.json', 'w') as file : \n",
    "    json.dump(t, file) \n",
    "\n",
    "with open('demo.json' , 'r') as file :\n",
    "    tupl = json.load(file) \n",
    "    print(tupl) # y list ? y not tuple \n",
    "    print(type(tupl)) \n"
   ]
  },
  {
   "cell_type": "code",
   "execution_count": 47,
   "id": "b563df72",
   "metadata": {},
   "outputs": [],
   "source": [
    "# person data in json \n",
    "import json \n",
    "class person :\n",
    "    def __init__(self , name , age, gen) :\n",
    "        self.name = name \n",
    "        self.age = age \n",
    "        self.gen = gen \n",
    "\n",
    "p1 = person(\"Ghutuk\" , 22 , \"Male\") \n",
    "\n",
    "def show_objects(pers) : \n",
    "    if isinstance(pers,person) : \n",
    "        return \"name -> {} age -> {} gender ->{}\".format(pers.name ,pers.age , pers.gen) \n",
    "\n",
    "with open(\"person.json\" ,\"w\") as file :\n",
    "    json.dump(p1, file , default =  show_objects)\n",
    "\n",
    "# if we not assign any function to default args then we can can't store it \n",
    "# in json format as it is not know to json how will it display the data\n",
    "#  "
   ]
  },
  {
   "cell_type": "code",
   "execution_count": 48,
   "id": "773884f2",
   "metadata": {},
   "outputs": [
    {
     "name": "stdout",
     "output_type": "stream",
     "text": [
      "[1, 2, 3, 4, 5]\n",
      "<class 'list'>\n"
     ]
    }
   ],
   "source": [
    "# deserialization \n",
    "import json \n",
    "with open('demo.json' , 'r') as file : \n",
    "    d = json.load(file) \n",
    "    print(d ) \n",
    "    print(type(d)) "
   ]
  },
  {
   "cell_type": "code",
   "execution_count": null,
   "id": "39c89206",
   "metadata": {},
   "outputs": [
    {
     "name": "stdout",
     "output_type": "stream",
     "text": [
      "<__main__.person object at 0x0000018BB9236570>\n"
     ]
    }
   ],
   "source": [
    "#pickling \n",
    "# it is the process whereby a python object is converted into a byte stream \n",
    "# and unpickling is the inverse operation whereby a byte stream (from binary file or butes like object) is converted back into an object \n",
    "import pickle \n",
    "p = person(\"sarvesh\" , \"22\" , \"male\") \n",
    "with open('person.pkl' ,'wb') as file :\n",
    "    pickle.dump(p , file) \n",
    "\n",
    "with open('person.pkl' , 'rb') as file : \n",
    "    p = pickle.load(file) \n",
    "print(p) \n",
    "\n",
    "# ds use pickle more and more \n"
   ]
  },
  {
   "cell_type": "code",
   "execution_count": null,
   "id": "96f08992",
   "metadata": {},
   "outputs": [],
   "source": [
    "# write a custom code for merging the content of two file \n"
   ]
  },
  {
   "cell_type": "code",
   "execution_count": null,
   "id": "31c1426e",
   "metadata": {},
   "outputs": [],
   "source": []
  },
  {
   "cell_type": "code",
   "execution_count": null,
   "id": "43526693",
   "metadata": {},
   "outputs": [],
   "source": []
  },
  {
   "cell_type": "code",
   "execution_count": null,
   "id": "38b8ca23",
   "metadata": {},
   "outputs": [],
   "source": []
  },
  {
   "cell_type": "code",
   "execution_count": null,
   "id": "8a7729fb",
   "metadata": {},
   "outputs": [],
   "source": []
  },
  {
   "cell_type": "code",
   "execution_count": null,
   "id": "3c6bc238",
   "metadata": {},
   "outputs": [],
   "source": []
  },
  {
   "cell_type": "code",
   "execution_count": null,
   "id": "4fe94dc7",
   "metadata": {},
   "outputs": [],
   "source": []
  },
  {
   "cell_type": "code",
   "execution_count": null,
   "id": "af566f09",
   "metadata": {},
   "outputs": [],
   "source": []
  },
  {
   "cell_type": "code",
   "execution_count": null,
   "id": "86e40c0a",
   "metadata": {},
   "outputs": [],
   "source": []
  },
  {
   "cell_type": "code",
   "execution_count": null,
   "id": "03cc714a",
   "metadata": {},
   "outputs": [],
   "source": []
  },
  {
   "cell_type": "code",
   "execution_count": null,
   "id": "19eb0a43",
   "metadata": {},
   "outputs": [],
   "source": []
  },
  {
   "cell_type": "code",
   "execution_count": null,
   "id": "14ef0d5d",
   "metadata": {},
   "outputs": [],
   "source": []
  },
  {
   "cell_type": "code",
   "execution_count": null,
   "id": "0f8165c0",
   "metadata": {},
   "outputs": [],
   "source": []
  },
  {
   "cell_type": "code",
   "execution_count": null,
   "id": "238edc5b",
   "metadata": {},
   "outputs": [],
   "source": []
  }
 ],
 "metadata": {
  "kernelspec": {
   "display_name": "Python 3",
   "language": "python",
   "name": "python3"
  },
  "language_info": {
   "codemirror_mode": {
    "name": "ipython",
    "version": 3
   },
   "file_extension": ".py",
   "mimetype": "text/x-python",
   "name": "python",
   "nbconvert_exporter": "python",
   "pygments_lexer": "ipython3",
   "version": "3.13.7"
  }
 },
 "nbformat": 4,
 "nbformat_minor": 5
}
