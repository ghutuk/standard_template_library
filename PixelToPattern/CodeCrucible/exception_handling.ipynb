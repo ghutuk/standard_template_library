{
 "cells": [
  {
   "cell_type": "markdown",
   "id": "9db08841",
   "metadata": {},
   "source": [
    "#exception handling in python \n",
    "# custom class for Custom Exception \n",
    "\n",
    "During Compilation : Syntax Error \n",
    "During Execution : Exception \n",
    "\n",
    "# Systax Error \n",
    "Something in the programm is not written according to the programm grammar \n",
    "Error is raised by the interpreter or compiler \n",
    "We can solve it by rectifying the programm \n"
   ]
  },
  {
   "cell_type": "code",
   "execution_count": null,
   "id": "adc5a7df",
   "metadata": {},
   "outputs": [
    {
     "ename": "SyntaxError",
     "evalue": "invalid syntax. Perhaps you forgot a comma? (3483773164.py, line 2)",
     "output_type": "error",
     "traceback": [
      "  \u001b[36mCell\u001b[39m\u001b[36m \u001b[39m\u001b[32mIn[1]\u001b[39m\u001b[32m, line 2\u001b[39m\n\u001b[31m    \u001b[39m\u001b[31mprint(Hello World)\u001b[39m\n          ^\n\u001b[31mSyntaxError\u001b[39m\u001b[31m:\u001b[39m invalid syntax. Perhaps you forgot a comma?\n"
     ]
    }
   ],
   "source": [
    "# example of syntax error \n",
    "print(Hello World) \n",
    "\n",
    "# leaving symbols like colon bracket etc\n",
    "# misspelling a keyword\n",
    "# incorrect indentation \n",
    "# empty if / elif / else / loop / class /function \n"
   ]
  },
  {
   "cell_type": "code",
   "execution_count": 2,
   "id": "d7d6afe4",
   "metadata": {},
   "outputs": [
    {
     "ename": "IndentationError",
     "evalue": "expected an indented block after 'if' statement on line 2 (2795664152.py, line 3)",
     "output_type": "error",
     "traceback": [
      "  \u001b[36mCell\u001b[39m\u001b[36m \u001b[39m\u001b[32mIn[2]\u001b[39m\u001b[32m, line 3\u001b[39m\n\u001b[31m    \u001b[39m\u001b[31mprint(a)\u001b[39m\n    ^\n\u001b[31mIndentationError\u001b[39m\u001b[31m:\u001b[39m expected an indented block after 'if' statement on line 2\n"
     ]
    }
   ],
   "source": [
    "a = 5 \n",
    "if(a ==3) :\n",
    "print(a) "
   ]
  },
  {
   "cell_type": "code",
   "execution_count": null,
   "id": "cf4b4e4d",
   "metadata": {},
   "outputs": [],
   "source": [
    "IndexError \n",
    "ModuleNotFoundError\n",
    "KeyError\n",
    "TypeError \n",
    "UnboundLocalError\n",
    "NameError\n",
    "ValueError\n",
    "ImportError\n",
    "AttributeError\n",
    "RecursionError\n",
    "EOFError\n",
    "TabError\n",
    "ArithmeticError\n",
    "ZeroDivisionError\n"
   ]
  },
  {
   "cell_type": "code",
   "execution_count": null,
   "id": "752cde55",
   "metadata": {},
   "outputs": [
    {
     "ename": "AttributeError",
     "evalue": "'list' object has no attribute 'upper'",
     "output_type": "error",
     "traceback": [
      "\u001b[31m---------------------------------------------------------------------------\u001b[39m",
      "\u001b[31mAttributeError\u001b[39m                            Traceback (most recent call last)",
      "\u001b[36mCell\u001b[39m\u001b[36m \u001b[39m\u001b[32mIn[3]\u001b[39m\u001b[32m, line 2\u001b[39m\n\u001b[32m      1\u001b[39m L = [\u001b[32m1\u001b[39m,\u001b[32m2\u001b[39m,\u001b[32m3\u001b[39m,\u001b[32m4\u001b[39m] \n\u001b[32m----> \u001b[39m\u001b[32m2\u001b[39m \u001b[43mL\u001b[49m\u001b[43m.\u001b[49m\u001b[43mupper\u001b[49m() \n",
      "\u001b[31mAttributeError\u001b[39m: 'list' object has no attribute 'upper'"
     ]
    }
   ],
   "source": [
    "L = [1,2,3,4] \n",
    "L.upper()# Attribute Error \n"
   ]
  },
  {
   "cell_type": "code",
   "execution_count": null,
   "id": "db37cbb2",
   "metadata": {},
   "outputs": [],
   "source": [
    "# Exception \n",
    "# if things go wrong during the execution of the program (runtime) , It generally happens when something unforeseen has happend\n",
    "# Exceptions are raised by python runtime \n",
    "# We have to tackle the exception is on the fly \n",
    "\n",
    "# # examples : \n",
    "#     Memory Overflow \n",
    "#     Divide By Zero Error \n",
    "#     Database Error "
   ]
  },
  {
   "cell_type": "code",
   "execution_count": null,
   "id": "99e3b933",
   "metadata": {},
   "outputs": [],
   "source": [
    "# y is it important to handle exception ? \n",
    "# --> Stacktrace message :\n",
    "#     type \n",
    "#     message \n",
    "#     line number , file name \n",
    "# ---> all these are not understandable by user \n",
    "# ---> when python interpreter handles the exception , it terminates the further execution of program \n",
    "# ---> security : hacker can breach the security \n",
    "# ---> to enhance user experience \n",
    "\n",
    "try :   \n",
    "    code which may raise an exception \n",
    "    a try block must have at least except block \n",
    "except block : \n",
    "    code to be executed if an exception occurs \n",
    "finally  : \n",
    "    executed irrespect of try and except block \n",
    "    only one finally block can be used for a try except block \n",
    "# multiple except block can be used        \n",
    "# except : it can except any types of exception : generic error \n",
    "# using it in our code is really a professional approach \n"
   ]
  },
  {
   "cell_type": "code",
   "execution_count": 7,
   "id": "253ae7d8",
   "metadata": {},
   "outputs": [
    {
     "name": "stdout",
     "output_type": "stream",
     "text": [
      "Some error has occured \n"
     ]
    }
   ],
   "source": [
    "try : \n",
    "    with open(\"Sample__.txt\" ,'r') as file : \n",
    "        content = file.read() \n",
    "        print(content) \n",
    "# catching specific exception \n",
    "# except FileNotFoundError :\n",
    "#     print(\"Given file not found in file directory\") \n",
    "except :\n",
    "    print(\"Some error has occured \")\n"
   ]
  },
  {
   "cell_type": "code",
   "execution_count": 4,
   "id": "8f40a55a",
   "metadata": {},
   "outputs": [
    {
     "name": "stderr",
     "output_type": "stream",
     "text": [
      "INFO:root:Program started\n",
      "WARNING:root:This is a warning\n",
      "ERROR:root:An error occurred\n",
      "CRITICAL:root:Critical error! System is going down!\n"
     ]
    }
   ],
   "source": [
    "import logging\n",
    "\n",
    "logging.basicConfig(level=logging.INFO)\n",
    "\n",
    "logging.debug(\"This is a debug message\")\n",
    "logging.info(\"Program started\")\n",
    "logging.warning(\"This is a warning\")\n",
    "logging.error(\"An error occurred\")\n",
    "logging.critical(\"Critical error! System is going down!\")\n"
   ]
  },
  {
   "cell_type": "code",
   "execution_count": null,
   "id": "c1f65d99",
   "metadata": {},
   "outputs": [
    {
     "name": "stdout",
     "output_type": "stream",
     "text": [
      "Paisa khate me daal gaandu\n"
     ]
    }
   ],
   "source": [
    "class InsufficientBalance(Exception) :\n",
    "    def __init__(self , message)  :\n",
    "        self.message = message \n",
    "    # overriding the __str__ method of Exception class \n",
    "    def __str__(self) :\n",
    "        return self.message \n",
    "    \n",
    "try :\n",
    "    raise InsufficientBalance(\"Paisa khate me daal gaandu\" )\n",
    "except InsufficientBalance as e :\n",
    "    print(e) \n",
    "\n",
    "# aim is to provide accurate error message to users \n"
   ]
  },
  {
   "cell_type": "code",
   "execution_count": null,
   "id": "debe043b",
   "metadata": {},
   "outputs": [
    {
     "name": "stdout",
     "output_type": "stream",
     "text": [
      "This is the else block with try and catch\n"
     ]
    }
   ],
   "source": [
    "# else block : \n",
    "try :\n",
    "    f = open('sample.txt' ,'r')\n",
    "except FileNotFoundError :\n",
    "    print(\"File not exist \") \n",
    "else : \n",
    "    print(\"This is the else block with try and catch\") \n",
    "\n",
    "# else : wo code likha jata hai jisme exception ka chance zero hota hain \n",
    "# agar ek bhi except block chal jayega to else block execute nahi hoga \n"
   ]
  },
  {
   "cell_type": "code",
   "execution_count": 10,
   "id": "977035d8",
   "metadata": {},
   "outputs": [
    {
     "name": "stdout",
     "output_type": "stream",
     "text": [
      "Divide by zero is not possible \n",
      "Always executing code\n"
     ]
    }
   ],
   "source": [
    "# finally block \n",
    "# try -> except / else -> finally \n",
    "# executed irrespective of exception occurrece \n",
    "\n",
    "try :\n",
    "    a=5 \n",
    "    b =0 \n",
    "    print(a/b) \n",
    "except ZeroDivisionError :\n",
    "    print(\"Divide by zero is not possible \") \n",
    "else : \n",
    "    print(\"Ratio is {}\".format(a/b)) \n",
    "finally :\n",
    "    print(\"Always executing code\") \n",
    "    # used for resource cleanup \n",
    "    # like closing database , scoket connection , file or any thing else\n"
   ]
  },
  {
   "cell_type": "code",
   "execution_count": null,
   "id": "4644ccf4",
   "metadata": {},
   "outputs": [
    {
     "ename": "FileExistsError",
     "evalue": "File to pahale se hai ji",
     "output_type": "error",
     "traceback": [
      "\u001b[31m---------------------------------------------------------------------------\u001b[39m",
      "\u001b[31mFileExistsError\u001b[39m                           Traceback (most recent call last)",
      "\u001b[36mCell\u001b[39m\u001b[36m \u001b[39m\u001b[32mIn[11]\u001b[39m\u001b[32m, line 5\u001b[39m\n\u001b[32m      1\u001b[39m \u001b[38;5;66;03m# raise exception as similar to throw in cpp or java \u001b[39;00m\n\u001b[32m      2\u001b[39m \u001b[38;5;66;03m# raise ExceptionName \u001b[39;00m\n\u001b[32m      3\u001b[39m \u001b[38;5;66;03m# raise NameError or NameError(\"error_message\") \u001b[39;00m\n\u001b[32m----> \u001b[39m\u001b[32m5\u001b[39m \u001b[38;5;28;01mraise\u001b[39;00m \u001b[38;5;167;01mFileExistsError\u001b[39;00m(\u001b[33m\"\u001b[39m\u001b[33mFile to pahale se hai ji\u001b[39m\u001b[33m\"\u001b[39m)\n",
      "\u001b[31mFileExistsError\u001b[39m: File to pahale se hai ji"
     ]
    }
   ],
   "source": [
    "# raise exception as similar to throw in cpp or java \n",
    "# raise ExceptionName \n",
    "# raise NameError or NameError(\"error_message\") \n",
    "\n",
    "raise FileExistsError(\"File to pahale se hai ji\")\n",
    "\n",
    "# how to use it smartly ?? \n",
    "# except : catch "
   ]
  },
  {
   "cell_type": "code",
   "execution_count": 1,
   "id": "c60466fa",
   "metadata": {},
   "outputs": [
    {
     "name": "stdout",
     "output_type": "stream",
     "text": [
      "Withdraw amount 3434\n",
      "2305850\n",
      "['__cause__', '__class__', '__context__', '__delattr__', '__dict__', '__dir__', '__doc__', '__eq__', '__format__', '__ge__', '__getattribute__', '__getstate__', '__gt__', '__hash__', '__init__', '__init_subclass__', '__le__', '__lt__', '__ne__', '__new__', '__reduce__', '__reduce_ex__', '__repr__', '__setattr__', '__setstate__', '__sizeof__', '__str__', '__subclasshook__', '__suppress_context__', '__traceback__', 'add_note', 'args', 'with_traceback']\n"
     ]
    }
   ],
   "source": [
    "# raise ka fayada \n",
    "class LessBalanceError(Exception) :\n",
    "    def __init__(self , message) :\n",
    "        self.message = message \n",
    "    def __str__(self) :\n",
    "        return self.message \n",
    "    \n",
    "class NegativeAmountError (Exception ) :\n",
    "    def __init__(self , message) :\n",
    "        self.message = message \n",
    "    def __str__(self) :\n",
    "        return self.message \n",
    "\n",
    "class Bank : \n",
    "    def __init__(self, balance) :\n",
    "        self.balance = balance \n",
    "    def withdraw(self, amount ) :\n",
    "        if(amount > self.balance) :\n",
    "            raise LessBalanceError(\"Khate me paisa kam hai ji\")\n",
    "        elif(amount < 0) :\n",
    "            raise NegativeAmountError(\"Amount to be withdraw can't be negative\") \n",
    "        \n",
    "        else :\n",
    "            self.balance -= amount \n",
    "            print(\"Withdraw amount {}\".format(amount)) \n",
    "\n",
    "        \n",
    "obj1 = Bank(2309284) \n",
    "try :\n",
    "   # obj1.withdraw(439894384398)\n",
    "    #obj1.withdraw(-43834) \n",
    "    obj1.withdraw(3434) \n",
    "except NegativeAmountError as e :\n",
    "    print(e) \n",
    "except LessBalanceError as e :\n",
    "    print(e)\n",
    "else : \n",
    "    print(obj1.balance) \n",
    "\n",
    "print(dir(Exception))"
   ]
  },
  {
   "cell_type": "code",
   "execution_count": null,
   "id": "45b2af19",
   "metadata": {},
   "outputs": [],
   "source": [
    "# custom exception class \n",
    "# need of manking custom exception class? \n",
    "#----> Project Specific Error \n",
    "#----> Full control over Error\n",
    "# exception hierarchy in python \n",
    "# \n"
   ]
  },
  {
   "cell_type": "code",
   "execution_count": 16,
   "id": "cab079ae",
   "metadata": {},
   "outputs": [
    {
     "name": "stdout",
     "output_type": "stream",
     "text": [
      "Warning! Unauthorised Access Detected\n"
     ]
    }
   ],
   "source": [
    "class SecurityError(Exception) :\n",
    "    def __init__(self, msg) :\n",
    "        self.message = msg \n",
    "\n",
    "try :\n",
    "    raise SecurityError(\"Warning! Unauthorised Access Detected\") \n",
    "except SecurityError as e :\n",
    "    print(e) "
   ]
  },
  {
   "cell_type": "code",
   "execution_count": null,
   "id": "d22c2804",
   "metadata": {},
   "outputs": [],
   "source": [
    "kagglenotebook"
   ]
  }
 ],
 "metadata": {
  "kernelspec": {
   "display_name": "Python 3",
   "language": "python",
   "name": "python3"
  },
  "language_info": {
   "codemirror_mode": {
    "name": "ipython",
    "version": 3
   },
   "file_extension": ".py",
   "mimetype": "text/x-python",
   "name": "python",
   "nbconvert_exporter": "python",
   "pygments_lexer": "ipython3",
   "version": "3.13.7"
  }
 },
 "nbformat": 4,
 "nbformat_minor": 5
}
