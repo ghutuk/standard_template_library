{
 "cells": [
  {
   "cell_type": "markdown",
   "id": "4877f774",
   "metadata": {},
   "source": [
    "# Namespace : \n",
    "    LEGB : localscope -> enclosing scope -> global scope -> built in scope \n",
    "\n",
    "It is a space that holds names(identifiers) .\n",
    "Technically : namespaces are dictionary of identifiers(keys) and their objects(values)\n",
    "There are four types of namespaces :\n",
    "    Built In  namespace \n",
    "    Global namespace\n",
    "    Enclosing Namespace\n",
    "    Local Namespace \n",
    "\n",
    "Python interpreter searches for a name from inside out , looking in the local , enclosing , global and finally the built in scope . If the interpreter doesn't find the name in any of these locations , then interpreter raises a NameError Exception "
   ]
  },
  {
   "cell_type": "markdown",
   "id": "e246705a",
   "metadata": {},
   "source": []
  },
  {
   "cell_type": "markdown",
   "id": "35ec6156",
   "metadata": {},
   "source": []
  },
  {
   "cell_type": "code",
   "execution_count": 4,
   "id": "707d5c1d",
   "metadata": {},
   "outputs": [
    {
     "name": "stdout",
     "output_type": "stream",
     "text": [
      "3\n",
      "2\n"
     ]
    }
   ],
   "source": [
    "# local and global \n",
    "a = 2 \n",
    "def temp() :\n",
    "    a = 3 # local scope ka variable hain \n",
    "    print(a) # 3 \n",
    "temp() \n",
    "print(a) # 2 \n",
    "# both a are in different scope \n",
    "\n"
   ]
  },
  {
   "cell_type": "code",
   "execution_count": 5,
   "id": "13c562bc",
   "metadata": {},
   "outputs": [
    {
     "name": "stdout",
     "output_type": "stream",
     "text": [
      "1\n",
      "1\n"
     ]
    }
   ],
   "source": [
    "# local and global -> global created inside local \n",
    "#\n",
    "def temp() :\n",
    "    global a \n",
    "    a = 1 \n",
    "    print(a) \n",
    "temp() \n",
    "print(a) # global a --> 1 \n"
   ]
  },
  {
   "cell_type": "code",
   "execution_count": 6,
   "id": "a53377a9",
   "metadata": {},
   "outputs": [
    {
     "name": "stdout",
     "output_type": "stream",
     "text": [
      "print() is in built in scope \n",
      "ArithmeticError\n",
      "AssertionError\n",
      "AttributeError\n",
      "BaseException\n",
      "BaseExceptionGroup\n",
      "BlockingIOError\n",
      "BrokenPipeError\n",
      "BufferError\n",
      "BytesWarning\n",
      "ChildProcessError\n",
      "ConnectionAbortedError\n",
      "ConnectionError\n",
      "ConnectionRefusedError\n",
      "ConnectionResetError\n",
      "DeprecationWarning\n",
      "EOFError\n",
      "Ellipsis\n",
      "EncodingWarning\n",
      "EnvironmentError\n",
      "Exception\n",
      "ExceptionGroup\n",
      "False\n",
      "FileExistsError\n",
      "FileNotFoundError\n",
      "FloatingPointError\n",
      "FutureWarning\n",
      "GeneratorExit\n",
      "IOError\n",
      "ImportError\n",
      "ImportWarning\n",
      "IndentationError\n",
      "IndexError\n",
      "InterruptedError\n",
      "IsADirectoryError\n",
      "KeyError\n",
      "KeyboardInterrupt\n",
      "LookupError\n",
      "MemoryError\n",
      "ModuleNotFoundError\n",
      "NameError\n",
      "None\n",
      "NotADirectoryError\n",
      "NotImplemented\n",
      "NotImplementedError\n",
      "OSError\n",
      "OverflowError\n",
      "PendingDeprecationWarning\n",
      "PermissionError\n",
      "ProcessLookupError\n",
      "PythonFinalizationError\n",
      "RecursionError\n",
      "ReferenceError\n",
      "ResourceWarning\n",
      "RuntimeError\n",
      "RuntimeWarning\n",
      "StopAsyncIteration\n",
      "StopIteration\n",
      "SyntaxError\n",
      "SyntaxWarning\n",
      "SystemError\n",
      "SystemExit\n",
      "TabError\n",
      "TimeoutError\n",
      "True\n",
      "TypeError\n",
      "UnboundLocalError\n",
      "UnicodeDecodeError\n",
      "UnicodeEncodeError\n",
      "UnicodeError\n",
      "UnicodeTranslateError\n",
      "UnicodeWarning\n",
      "UserWarning\n",
      "ValueError\n",
      "Warning\n",
      "WindowsError\n",
      "ZeroDivisionError\n",
      "_IncompleteInputError\n",
      "__IPYTHON__\n",
      "__build_class__\n",
      "__debug__\n",
      "__doc__\n",
      "__import__\n",
      "__loader__\n",
      "__name__\n",
      "__package__\n",
      "__spec__\n",
      "abs\n",
      "aiter\n",
      "all\n",
      "anext\n",
      "any\n",
      "ascii\n",
      "bin\n",
      "bool\n",
      "breakpoint\n",
      "bytearray\n",
      "bytes\n",
      "callable\n",
      "chr\n",
      "classmethod\n",
      "compile\n",
      "complex\n",
      "copyright\n",
      "credits\n",
      "delattr\n",
      "dict\n",
      "dir\n",
      "display\n",
      "divmod\n",
      "enumerate\n",
      "eval\n",
      "exec\n",
      "execfile\n",
      "filter\n",
      "float\n",
      "format\n",
      "frozenset\n",
      "get_ipython\n",
      "getattr\n",
      "globals\n",
      "hasattr\n",
      "hash\n",
      "help\n",
      "hex\n",
      "id\n",
      "input\n",
      "int\n",
      "isinstance\n",
      "issubclass\n",
      "iter\n",
      "len\n",
      "license\n",
      "list\n",
      "locals\n",
      "map\n",
      "max\n",
      "memoryview\n",
      "min\n",
      "next\n",
      "object\n",
      "oct\n",
      "open\n",
      "ord\n",
      "pow\n",
      "print\n",
      "property\n",
      "range\n",
      "repr\n",
      "reversed\n",
      "round\n",
      "runfile\n",
      "set\n",
      "setattr\n",
      "slice\n",
      "sorted\n",
      "staticmethod\n",
      "str\n",
      "sum\n",
      "super\n",
      "tuple\n",
      "type\n",
      "vars\n",
      "zip\n"
     ]
    }
   ],
   "source": [
    "# built in namespace \n",
    "print(\"print() is in built in scope \") \n",
    "# how to see all the built ins \n",
    "\n",
    "import builtins \n",
    "lst = dir(builtins) \n",
    "for i in lst :\n",
    "    print(i) \n",
    "    "
   ]
  },
  {
   "cell_type": "code",
   "execution_count": 7,
   "id": "397a9e53",
   "metadata": {},
   "outputs": [],
   "source": [
    "# changing name of builtin \n",
    "# l = [1,2,3,4,5,6,7] \n",
    "# def max() :\n",
    "#     print(\"Namasted duniya\") \n",
    "# max(l) "
   ]
  },
  {
   "cell_type": "code",
   "execution_count": 8,
   "id": "0f7060aa",
   "metadata": {},
   "outputs": [
    {
     "name": "stdout",
     "output_type": "stream",
     "text": [
      "7\n"
     ]
    }
   ],
   "source": [
    "l = [1,2,3,4,5,6,7] \n",
    "print(max(l)) # builtin wale max() ka behaviour override kiya ja rha hain  \n",
    "# ye code kaam karna chahiye perfectly \n",
    "# but raising an error in notebook\n",
    "def max() :\n",
    "    print(\"Namasted duniya\") \n",
    "\n"
   ]
  },
  {
   "cell_type": "code",
   "execution_count": 9,
   "id": "fd855404",
   "metadata": {},
   "outputs": [
    {
     "name": "stdout",
     "output_type": "stream",
     "text": [
      "10\n",
      "Inner function \n",
      "Outer function\n",
      "Main programm\n"
     ]
    }
   ],
   "source": [
    "# Enclosing scope or non local scope \n",
    "def outer():# enclosing scope \n",
    "    a = 5\n",
    "    def inner() : # local scope \n",
    "        a =10 \n",
    "        print(a)  \n",
    "        print(\"Inner function \") \n",
    "    inner() \n",
    "    print(\"Outer function\") \n",
    "outer() \n",
    "print(\"Main programm\") \n"
   ]
  },
  {
   "cell_type": "code",
   "execution_count": 10,
   "id": "f6ba5687",
   "metadata": {},
   "outputs": [
    {
     "name": "stdout",
     "output_type": "stream",
     "text": [
      "5\n",
      "Inner function \n",
      "Outer function\n",
      "Main programm\n"
     ]
    }
   ],
   "source": [
    "# Enclosing scope or non local scope \n",
    "def outer():# enclosing scope \n",
    "    a = 5\n",
    "    def inner() : # local scope  \n",
    "        print(a)  # a of enclosing scope\n",
    "        print(\"Inner function \") \n",
    "    inner() \n",
    "    print(\"Outer function\") \n",
    "outer() \n",
    "print(\"Main programm\") \n"
   ]
  },
  {
   "cell_type": "code",
   "execution_count": 11,
   "id": "6e0c6874",
   "metadata": {},
   "outputs": [
    {
     "name": "stdout",
     "output_type": "stream",
     "text": [
      "15\n",
      "Inner function \n",
      "Outer function\n",
      "Main programm\n"
     ]
    }
   ],
   "source": [
    "# nonlocal keyword  \n",
    "# Enclosing scope or non local scope \n",
    "def outer():# enclosing scope \n",
    "    a = 5\n",
    "    def inner() : # local scope \n",
    "        nonlocal a # nonlocal for enclosing scope \n",
    "        a += 10 \n",
    "        print(a)  \n",
    "        print(\"Inner function \") \n",
    "    inner() \n",
    "    print(\"Outer function\") \n",
    "outer() \n",
    "print(\"Main programm\") \n"
   ]
  },
  {
   "cell_type": "markdown",
   "id": "c82d7f5a",
   "metadata": {},
   "source": [
    "# Decorator : \n",
    "    Special function which takes another function as an arguments and add on some functionality (decoration ) to and it and returns it \n",
    "\n",
    "    This can happen only bcoz python functions are 1st class citizens \n",
    "\n",
    "    Types :\n",
    "        Built in decorators : like @staticmethod , @classmethod , @abstractmethod and @property etc \n",
    "        User defined decorators : created by programmer according to their needs \n",
    "        "
   ]
  },
  {
   "cell_type": "code",
   "execution_count": 23,
   "id": "260567d2",
   "metadata": {},
   "outputs": [
    {
     "name": "stdout",
     "output_type": "stream",
     "text": [
      "<function greet at 0x000002BD611339C0>\n",
      "Namaste ji\n"
     ]
    }
   ],
   "source": [
    "# first class citizens \n",
    "def  greet() :\n",
    "    print(\"Namaste ji\") \n",
    "a = greet ;\n",
    "print(a) \n",
    "\n",
    "# calling function a \n",
    "a()"
   ]
  },
  {
   "cell_type": "code",
   "execution_count": null,
   "id": "10ac59c1",
   "metadata": {},
   "outputs": [
    {
     "name": "stdout",
     "output_type": "stream",
     "text": [
      "Before the function call\n",
      "Namaste Duniya\n",
      "After the function call\n",
      "Before the function call\n",
      "Hello World\n",
      "After the function call\n"
     ]
    }
   ],
   "source": [
    "def f1(f) :\n",
    "    def wrapper() :\n",
    "        print(\"Before the function call\") \n",
    "        f() \n",
    "        print(\"After the function call\")  \n",
    "    return wrapper \n",
    "\n",
    "@f1\n",
    "def f2() :\n",
    "    print(\"Namaste Duniya\") \n",
    "f2() \n",
    "\n",
    " \n",
    "@f1 \n",
    "def f3() :\n",
    "    print(\"Hello World\")\n",
    "f3() \n",
    "\n",
    "\n",
    "# anything that starts with @ , is a decorator in python \n"
   ]
  },
  {
   "cell_type": "code",
   "execution_count": 55,
   "id": "cabe38b4",
   "metadata": {},
   "outputs": [
    {
     "name": "stdout",
     "output_type": "stream",
     "text": [
      "******************************\n",
      "Namaste ji\n",
      "******************************\n"
     ]
    }
   ],
   "source": [
    "# simple decorator \n",
    "# decorate the output of a function \n",
    "\n",
    "def draw_line(function) :\n",
    "    def wrapper() :\n",
    "        print(30*\"*\") \n",
    "        function() \n",
    "        print(30*\"*\")\n",
    "    return wrapper\n",
    "\n",
    "    \n",
    "def greet() :\n",
    "    print(\"Namaste ji\") \n",
    "\n",
    "# calling decorator \n",
    "draw_line(greet)()\n",
    "\n",
    "# or a = draw_line() ; a()\n",
    "\n",
    "# this is for only demostration purpose\n",
    "\n"
   ]
  },
  {
   "cell_type": "code",
   "execution_count": null,
   "id": "638186f7",
   "metadata": {},
   "outputs": [
    {
     "name": "stdout",
     "output_type": "stream",
     "text": [
      "5\n"
     ]
    }
   ],
   "source": [
    "def outer() :\n",
    "    a = 5 \n",
    "    def inner() :\n",
    "        print(a) \n",
    "    return inner \n",
    "a = outer() \n",
    "a() \n",
    "\n",
    "# a variable to outer() function ka tha , jaise hi outer() ne inner() \n",
    "# function ko return kiya hoga to uski memory destroy ho jati hai par is case me aisa nahi ho rha hain \n",
    "# outer() function memory me reside kar rha hain jaise hi inner() ko call kiya gya hain a() tab outer() ko dubara memory mil jayega\n",
    "\n",
    "# parent ke marne ke baad bhi child function access kar lega uske properties ko \n",
    "# outer() return karne ke baad heap me chala ja rha hai aur jaise hi call ho rha hain inner() to wapas wo stack me aa ja rha hain\n",
    "\n",
    "  "
   ]
  },
  {
   "cell_type": "code",
   "execution_count": 60,
   "id": "b68de958",
   "metadata": {},
   "outputs": [
    {
     "name": "stdout",
     "output_type": "stream",
     "text": [
      "******************************\n",
      "Hello Ji\n",
      "******************************\n"
     ]
    }
   ],
   "source": [
    "\n",
    "@draw_line\n",
    "def wish() :\n",
    "    print(\"Hello Ji\")\n",
    "\n",
    "wish()"
   ]
  },
  {
   "cell_type": "code",
   "execution_count": 18,
   "id": "c1d92041",
   "metadata": {},
   "outputs": [
    {
     "name": "stdout",
     "output_type": "stream",
     "text": [
      "Hello\n",
      "Time taken by  hello 0.00010704994201660156 secs\n",
      "9\n",
      "Time taken by  square 3.0007107257843018 secs\n"
     ]
    }
   ],
   "source": [
    "# meaning full decorator \n",
    "# decorator to calculate the execution time of any function \n",
    "\n",
    "import time \n",
    "\n",
    "def total_time(func) :\n",
    "    def wrapper(*args) :\n",
    "        start = time.time() \n",
    "        func(*args) \n",
    "        print(\"Time taken by \", func.__name__ , time.time()-start ,'secs')\n",
    "    return wrapper\n",
    "\n",
    "\n",
    "@total_time\n",
    "def hello() :\n",
    "    print(\"Hello\")\n",
    "hello()\n",
    "\n",
    "# @total_time\n",
    "# def printList() :\n",
    "#     lst = [x for x in range(1000)] \n",
    "#     for i in lst :\n",
    "#         print(i) \n",
    "\n",
    "# printList()\n",
    "\n",
    "#solving the problem passing argument to a function which is an argument of a decorator function \n",
    "\n",
    "@total_time\n",
    "def square(num) :\n",
    "    time.sleep(3) \n",
    "    print(num**2 )\n",
    "    # what if we return num**2 \n",
    "square(3) # *args to receive n number of inputs \n"
   ]
  },
  {
   "cell_type": "code",
   "execution_count": 14,
   "id": "b3878992",
   "metadata": {},
   "outputs": [
    {
     "name": "stdout",
     "output_type": "stream",
     "text": [
      "49\n",
      "Invalid Data type was given\n"
     ]
    }
   ],
   "source": [
    "# can we give arguments to decorator? yes \n",
    "# decorator to check valid data types of arguments \n",
    "\n",
    "def sanity_check(data_type) :\n",
    "    # inner and outer wrapper \n",
    "    def outer_wrapper(function) :\n",
    "        def inner_wrapper(*args) :\n",
    "            if(type(*args)== data_type) : # type(args[0]) == data_type\n",
    "                function(*args) \n",
    "            else : \n",
    "                raise TypeError(\"Invalid Data type was given\") \n",
    "        return inner_wrapper\n",
    "    return outer_wrapper\n",
    "\n",
    "#visualize its execution \n",
    "\n",
    "@sanity_check(int)\n",
    "def square(num) :\n",
    "    print(num*num) \n",
    "\n",
    "try :\n",
    "    square(7) \n",
    "    square(\"hello\")\n",
    "    square([1,2,3,4,5,6])\n",
    "except TypeError as error :\n",
    "    print(error) "
   ]
  },
  {
   "cell_type": "code",
   "execution_count": 21,
   "id": "514e94dc",
   "metadata": {},
   "outputs": [
    {
     "name": "stdout",
     "output_type": "stream",
     "text": [
      "7\n",
      "Time taken by  add 0.00025177001953125 secs\n",
      "7\n",
      "Time taken by  add 1.7404556274414062e-05 secs\n",
      "Expected <class 'int'> but got <class 'str'>\n"
     ]
    }
   ],
   "source": [
    "# more flexible decorator for data type checking \n",
    "def type_check(*types) :\n",
    "    def outer_wrapper(function) :\n",
    "        def inner_wrapper(*args , **kwargs) :\n",
    "            for a , t in zip(args , types) :\n",
    "                if not isinstance(a ,t) :\n",
    "                    raise TypeError(\"Expected {} but got {}\".format(t, type(a))) \n",
    "                # calling the function \n",
    "                function(*args , **kwargs) \n",
    "        # return inner wrapper \n",
    "        return inner_wrapper\n",
    "    return outer_wrapper\n",
    "\n",
    "\n",
    "@type_check(int , int )\n",
    "@total_time\n",
    "def add(a,b) :\n",
    "    print(a+b) \n",
    "\n",
    "\n",
    "try : \n",
    "    add(3,4) \n",
    "   # add(3,4.5) \n",
    "    add(\"Hello\" , \"World\") \n",
    "except TypeError as e : \n",
    "    print(e) \n"
   ]
  },
  {
   "cell_type": "code",
   "execution_count": null,
   "id": "f6df9947",
   "metadata": {},
   "outputs": [],
   "source": []
  },
  {
   "cell_type": "code",
   "execution_count": null,
   "id": "e12e00fb",
   "metadata": {},
   "outputs": [],
   "source": []
  },
  {
   "cell_type": "code",
   "execution_count": null,
   "id": "ad123cf5",
   "metadata": {},
   "outputs": [],
   "source": []
  },
  {
   "cell_type": "code",
   "execution_count": null,
   "id": "0fffbdd5",
   "metadata": {},
   "outputs": [],
   "source": []
  },
  {
   "cell_type": "code",
   "execution_count": null,
   "id": "e4d49da5",
   "metadata": {},
   "outputs": [],
   "source": []
  }
 ],
 "metadata": {
  "kernelspec": {
   "display_name": "Python 3",
   "language": "python",
   "name": "python3"
  },
  "language_info": {
   "codemirror_mode": {
    "name": "ipython",
    "version": 3
   },
   "file_extension": ".py",
   "mimetype": "text/x-python",
   "name": "python",
   "nbconvert_exporter": "python",
   "pygments_lexer": "ipython3",
   "version": "3.13.7"
  }
 },
 "nbformat": 4,
 "nbformat_minor": 5
}
