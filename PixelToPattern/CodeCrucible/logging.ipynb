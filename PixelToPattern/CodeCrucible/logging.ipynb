{
 "cells": [
  {
   "cell_type": "markdown",
   "id": "5b3b927e",
   "metadata": {},
   "source": [
    "What is logging ?\n",
    "Why it is necessary ?\n",
    "How loggin works? \n",
    "Some examples \n",
    "\n",
    "Application :\n",
    "    use to find the error / exception in programm using logbook \n",
    "    \n",
    "\n",
    "Logging is used to track events that occur in software when it runs \n",
    "\n",
    "It is used in development , debugging , testing etc \n",
    "Loggin is usefull to track the error or exception or information \n",
    "\n",
    "Logging module can be used with frameworks liek django , flask etc \n",
    "\n",
    "\n",
    "If no logging ? \n",
    "    then RCA(root cause analysis ) kam se kam time me dena padta hain \n",
    "    # it may tak long time to find root cause \n",
    "    # difficulty in testing and debuging \n",
    "\n",
    "Some example :\n",
    "    network issues and connection issues \n",
    "    access denied issues like permission \n",
    "    server down because of maintenance \n",
    "\n"
   ]
  },
  {
   "cell_type": "code",
   "execution_count": null,
   "id": "d1dd30c7",
   "metadata": {},
   "outputs": [
    {
     "ename": "SyntaxError",
     "evalue": "invalid syntax (107970815.py, line 2)",
     "output_type": "error",
     "traceback": [
      "  \u001b[36mCell\u001b[39m\u001b[36m \u001b[39m\u001b[32mIn[1]\u001b[39m\u001b[32m, line 2\u001b[39m\n\u001b[31m    \u001b[39m\u001b[31mLogging Level\u001b[39m\n            ^\n\u001b[31mSyntaxError\u001b[39m\u001b[31m:\u001b[39m invalid syntax\n"
     ]
    }
   ],
   "source": [
    "# # importing logging module \n",
    "# Logging Level \n",
    "# NOTSET : 0\n",
    "# DEBUG (10): Release information useful for debuggin purpose \n",
    "# INFO (20): Provides the information regarding that things are working as we went \n",
    "# WARNING(30) : used to warn that something happend unexpectedly \n",
    "# ERROR (40) : \n",
    "# CRITICAL(50) : used to inform when we are in some seriour trouble \n",
    "\n",
    "\n",
    "# # some functions \n",
    "# debug() ; info() ; warning() ;  error() ;  critical() ; exception() \n",
    "\n"
   ]
  },
  {
   "cell_type": "code",
   "execution_count": null,
   "id": "289ab38e",
   "metadata": {},
   "outputs": [],
   "source": [
    "# importing logging module \n",
    "import logging  \n",
    "\n",
    "logging.basicConfig(filename = \"app.log\",level= logging.DEBUG)\n",
    "# by default : file mode is append \n",
    "\n",
    "logging.debug(\"This is the debug message\") \n",
    "logging.info(\"Module x got completed and module y started\") \n",
    "logging.warning(\"The warning message is displaying \") \n",
    "logging.error(\"The error message is displaying\") \n",
    "logging.critical(\"The critical message is displaying\") \n",
    "\n",
    "#level (30): by default warning , iske aage ke sare print honge \n",
    "# level : name of logger : message logged by logger \n",
    "# by default logger name is : root "
   ]
  },
  {
   "cell_type": "code",
   "execution_count": null,
   "id": "8c6ce0ce",
   "metadata": {},
   "outputs": [],
   "source": [
    "# how to format log messages\n",
    "from logging import * \n",
    "\n",
    "basicConfig(filename = \"a.log\" ,\n",
    "             level = DEBUG ,\n",
    "             format = \"%(name)s:%(levelname)s:%(message)s\") \n",
    "\n",
    "debug(\"Debuggin is going to start\")\n",
    "# process id is required for debugging \n",
    "# %(lineno) , %(process)  for line number and process id \n",
    "\n",
    "# how to log data and time : \n",
    "    # logged before levelname \n",
    "    # %(asctime) \n",
    "    # use datefmt for formatting date and time \n",
    "    # style = \"{\" instead of % use {asctime}\n"
   ]
  },
  {
   "cell_type": "code",
   "execution_count": null,
   "id": "bf07df26",
   "metadata": {},
   "outputs": [
    {
     "name": "stderr",
     "output_type": "stream",
     "text": [
      "An exception is arised\n"
     ]
    }
   ],
   "source": [
    "# creating logger object \n",
    "import logging\n",
    "import sys \n",
    "\n",
    "lgr = logging.getLogger() # string for name , by defualt it is root \n",
    "# getLogger(sys.argv[0]) or __name__ : name of current file , if file is not imported then it is __main__ by default \n",
    "\n",
    "lgr.setLevel(0)\n",
    "lgr.info(\"Here is the information\") \n",
    "lgr.error(\"An exception is raised\")\n"
   ]
  },
  {
   "cell_type": "code",
   "execution_count": 8,
   "id": "af605634",
   "metadata": {},
   "outputs": [
    {
     "name": "stderr",
     "output_type": "stream",
     "text": [
      "ERROR:root:Exception Details : \n",
      "Traceback (most recent call last):\n",
      "  File \"C:\\Users\\kushw\\AppData\\Local\\Temp\\ipykernel_13692\\3124865869.py\", line 6, in <module>\n",
      "    age =int(input(\"Enter your age : \"))\n",
      "ValueError: invalid literal for int() with base 10: '45\\\\'\n"
     ]
    }
   ],
   "source": [
    "# log exception details \n",
    "\n",
    "import logging \n",
    "logging.basicConfig(level = logging.DEBUG) \n",
    "try :\n",
    "    age =int(input(\"Enter your age : \")) \n",
    "except ValueError as error :\n",
    "    # logging.error(error) # exc_info = True : for stacktrace message , by default it is False \n",
    "    logging.exception(\"Exception Details : \")\n",
    "\n",
    "# use any of these two "
   ]
  },
  {
   "cell_type": "code",
   "execution_count": 10,
   "id": "787591a8",
   "metadata": {},
   "outputs": [
    {
     "name": "stderr",
     "output_type": "stream",
     "text": [
      "INFO:root:A user having age 22 has logged in\n"
     ]
    }
   ],
   "source": [
    "import logging \n",
    "\n",
    "class AccessDenied(Exception) :\n",
    "    def __init__(self, *args):\n",
    "        super().__init__(*args)\n",
    "    def __str__(self):\n",
    "        return super().__str__() \n",
    "    \n",
    "# more professional way to create a custom error classsss \n",
    "\n",
    "try :\n",
    "    age = int(input(\"Enter your age :\")) \n",
    "    if(age<18) :\n",
    "        raise AccessDenied(\"Access Denied\") \n",
    "    else :\n",
    "        logging.info(f\"A user having age {age} has logged in\") \n",
    "except AccessDenied as error : \n",
    "    logging.error(error) \n",
    "\n"
   ]
  },
  {
   "cell_type": "code",
   "execution_count": null,
   "id": "402f6d89",
   "metadata": {},
   "outputs": [],
   "source": []
  },
  {
   "cell_type": "code",
   "execution_count": null,
   "id": "499997f2",
   "metadata": {},
   "outputs": [],
   "source": []
  },
  {
   "cell_type": "code",
   "execution_count": null,
   "id": "5566a34f",
   "metadata": {},
   "outputs": [],
   "source": []
  }
 ],
 "metadata": {
  "kernelspec": {
   "display_name": "Python 3",
   "language": "python",
   "name": "python3"
  },
  "language_info": {
   "codemirror_mode": {
    "name": "ipython",
    "version": 3
   },
   "file_extension": ".py",
   "mimetype": "text/x-python",
   "name": "python",
   "nbconvert_exporter": "python",
   "pygments_lexer": "ipython3",
   "version": "3.13.7"
  }
 },
 "nbformat": 4,
 "nbformat_minor": 5
}
