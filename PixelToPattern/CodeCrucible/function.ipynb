{
 "cells": [
  {
   "cell_type": "code",
   "execution_count": null,
   "id": "61c8f376",
   "metadata": {},
   "outputs": [],
   "source": []
  },
  {
   "cell_type": "code",
   "execution_count": 69,
   "id": "d1a6fdda",
   "metadata": {},
   "outputs": [],
   "source": [
    "# function in python \n",
    "\n",
    "def is_even(num) :\n",
    "    \"\"\"\n",
    "    docstring :\n",
    "        input \n",
    "        output \n",
    "        created \n",
    "        expected \n",
    "    \"\"\"\n",
    "\n",
    "    if(num%2 == 0) :\n",
    "        return 'even' \n",
    "    return 'odd'\n",
    "\n",
    "# code function always which can handle any type of input \n",
    "# it must be robust\n"
   ]
  },
  {
   "cell_type": "code",
   "execution_count": 83,
   "id": "6c7b8d24",
   "metadata": {},
   "outputs": [],
   "source": [
    "def _is_even(num) : \n",
    "    if(type(num) != int) :\n",
    "        return \"Data Type mis match \" \n",
    "    else : \n",
    "        if(num%2 == 0) : \n",
    "            return \"Even\" \n",
    "        else :\n",
    "            return \"False\" \n",
    "        "
   ]
  },
  {
   "cell_type": "code",
   "execution_count": 84,
   "id": "1cb41f28",
   "metadata": {},
   "outputs": [
    {
     "name": "stdout",
     "output_type": "stream",
     "text": [
      "Even\n",
      "False\n",
      "Data Type mis match \n"
     ]
    }
   ],
   "source": [
    "# calling the function \n",
    "print(_is_even(34)) \n",
    "print(_is_even(87)) \n",
    "print(_is_even(\"Hello\"))"
   ]
  },
  {
   "cell_type": "code",
   "execution_count": 85,
   "id": "cd03316e",
   "metadata": {},
   "outputs": [
    {
     "data": {
      "text/plain": [
       "'\\n    Parameter : function me jab variable banate hai value receive karne ke liye \\n    Argument : jab function ko call karte samay value pass kiya jata hai \\n\\n    Types of Argument : \\n        Default : \\n        Positional \\n        Keyword Argument \\n '"
      ]
     },
     "execution_count": 85,
     "metadata": {},
     "output_type": "execute_result"
    }
   ],
   "source": [
    "\"\"\"\n",
    "    Parameter : function me jab variable banate hai value receive karne ke liye \n",
    "    Argument : jab function ko call karte samay value pass kiya jata hai \n",
    "\n",
    "    Types of Argument : \n",
    "        Default : \n",
    "        Positional \n",
    "        Keyword Argument \n",
    " \"\"\""
   ]
  },
  {
   "cell_type": "code",
   "execution_count": 86,
   "id": "16085c7e",
   "metadata": {},
   "outputs": [
    {
     "name": "stdout",
     "output_type": "stream",
     "text": [
      "81\n",
      "81\n",
      "3\n"
     ]
    }
   ],
   "source": [
    "# defualt argument in python function \n",
    "def power(a,b) : \n",
    "    return a**b \n",
    "print(power(3,4)) \n",
    "# print(power(3)) : error : missing 1 required positional argument \n",
    "\n",
    "# asscociativity : right to left \n",
    "def _power(a =1 , b =1) : \n",
    "    return a**b \n",
    "print(_power(3,4)) \n",
    "print(_power(3)) \n",
    "\n"
   ]
  },
  {
   "cell_type": "code",
   "execution_count": 87,
   "id": "cd6f61a8",
   "metadata": {},
   "outputs": [
    {
     "name": "stdout",
     "output_type": "stream",
     "text": [
      "8\n"
     ]
    }
   ],
   "source": [
    "# positional arguments \n",
    "print(power(2,3)) # a =2  , b = 3 y not a =3 and b =2 \n",
    "# it is because of positional argument \n",
    "\n",
    "# by default :  left to right parameter me value assign hota hain \n",
    "\n",
    "# print(power(b = 2,a =3)) \n",
    "\n"
   ]
  },
  {
   "cell_type": "code",
   "execution_count": 88,
   "id": "a4f8e512",
   "metadata": {},
   "outputs": [
    {
     "name": "stdout",
     "output_type": "stream",
     "text": [
      "8\n"
     ]
    }
   ],
   "source": [
    "# keyword argument \n",
    "print(power(b=3 , a=2)) \n",
    "# name of argument must be same as name of parameter \n",
    "\n",
    "\n",
    "# precedence is more than positional argument \n",
    "# keyword args > positional > default "
   ]
  },
  {
   "cell_type": "code",
   "execution_count": 89,
   "id": "74b23d09",
   "metadata": {},
   "outputs": [
    {
     "name": "stdout",
     "output_type": "stream",
     "text": [
      "12\n",
      "(1, 2, 3, 4, 5, 6, 7, 8)\n",
      "40320\n",
      "(12, 3, 4, 5)\n",
      "720\n",
      "None\n"
     ]
    }
   ],
   "source": [
    "# *args and **kwargs\n",
    "# are special keywords that are used to pass the variable length of arguments to a function\n",
    "\n",
    "def multiply(a,b) : \n",
    "    return a*b \n",
    "print(multiply(3,4)) \n",
    "\n",
    "\n",
    "def product(*args) : \n",
    "    product =1 \n",
    "    for i in args : \n",
    "        product *= i \n",
    "    print(args) # tuple me store hota hain \n",
    "    # y tuple : immutability \n",
    "    return product \n",
    "\n",
    "print(product(1,2,3,4,5,6,7,8)) \n",
    "print(product(12,3,4,5)) \n",
    "# * : variable length of args stored in tuple \n",
    "#*args : we can write any things \n",
    "\n",
    "# eg : print() function \n",
    "\n",
    "print(product.__doc__) # to fetch the documentation of a function \n",
    "\n"
   ]
  },
  {
   "cell_type": "code",
   "execution_count": null,
   "id": "87b756d3",
   "metadata": {},
   "outputs": [
    {
     "name": "stdout",
     "output_type": "stream",
     "text": [
      "india Delhi\n",
      "srilanka Colombo\n"
     ]
    },
    {
     "data": {
      "text/plain": [
       "'\\n\\norder of argument matters(normal -> *args -> *kwargs) \\n\\n '"
      ]
     },
     "execution_count": 90,
     "metadata": {},
     "output_type": "execute_result"
    }
   ],
   "source": [
    "# **kwargs : keyword argument \n",
    "# allow us to pass any number of keyword argument \n",
    "\n",
    "# they contains key-value pair like dictionary \n",
    "\n",
    "# ** : store the argument in dictionary \n",
    "def display(**kwargs) : \n",
    "    for key , value in kwargs.items() :\n",
    "        print(key , value) \n",
    "\n",
    "display(india = \"Delhi\" , srilanka = \"Colombo\" , )\n",
    "\n",
    "# points to remember \n",
    "\"\"\"\n",
    "\n",
    "order of argument matters(normal -> *args -> **kwargs) \n",
    "\n",
    " \"\"\""
   ]
  },
  {
   "cell_type": "code",
   "execution_count": 91,
   "id": "5b47e2be",
   "metadata": {},
   "outputs": [
    {
     "data": {
      "text/plain": [
       "' \\nGlobal_frame : \\nfunction call hone par , function ka object banega memory me \\nonce a function complete its execution , then its memory is destroyed\\n'"
      ]
     },
     "execution_count": 91,
     "metadata": {},
     "output_type": "execute_result"
    }
   ],
   "source": [
    "# how functions are executed in memory \n",
    "\n",
    "\"\"\" \n",
    "Global_frame : \n",
    "function call hone par , function ka object banega memory me \n",
    "once a function complete its execution , then its memory is destroyed\n",
    "\"\"\"\n",
    "\n"
   ]
  },
  {
   "cell_type": "code",
   "execution_count": 92,
   "id": "be4ff0a4",
   "metadata": {},
   "outputs": [
    {
     "name": "stdout",
     "output_type": "stream",
     "text": [
      "Number is odd\n",
      "None\n",
      "None\n"
     ]
    }
   ],
   "source": [
    "# function without return statement always return None by default \n",
    "def is_even_odd(num ) :\n",
    "    if(num%2== 0) :\n",
    "        print(\"number is even\") \n",
    "    else : \n",
    "        print(\"Number is odd\") \n",
    "print(is_even_odd(5)) # None\n",
    "\n",
    "l = [1,2,3,4] \n",
    "print(l.append(5)) # None\n"
   ]
  },
  {
   "cell_type": "code",
   "execution_count": 93,
   "id": "a8b5bd0d",
   "metadata": {},
   "outputs": [
    {
     "name": "stdout",
     "output_type": "stream",
     "text": [
      "5\n",
      "6\n",
      "5\n"
     ]
    }
   ],
   "source": [
    "# variable scope in function \n",
    "def g(y) :\n",
    "    print(x) \n",
    "    print(x+1) \n",
    "\n",
    "x = 5 \n",
    "g(x) \n",
    "print(x)\n",
    "\n",
    "# a function can access the global variable for read only purpose \n",
    "# local ko global use nahi kar skta hai \n",
    "# global ko local use kar skta hain\n",
    "\n",
    "\n"
   ]
  },
  {
   "cell_type": "code",
   "execution_count": 94,
   "id": "7dbf12b2",
   "metadata": {},
   "outputs": [
    {
     "name": "stdout",
     "output_type": "stream",
     "text": [
      "2\n",
      "5\n"
     ]
    }
   ],
   "source": [
    "# another example \n",
    "\n",
    "def f(y) :\n",
    "    x = 1 # local x not global\n",
    "    x+=1  \n",
    "    print(x) # 2 \n",
    "x = 5 \n",
    "f(x) \n",
    "print(x) # 5 "
   ]
  },
  {
   "cell_type": "code",
   "execution_count": 95,
   "id": "61e814fe",
   "metadata": {},
   "outputs": [
    {
     "ename": "UnboundLocalError",
     "evalue": "cannot access local variable 'x' where it is not associated with a value",
     "output_type": "error",
     "traceback": [
      "\u001b[31m---------------------------------------------------------------------------\u001b[39m",
      "\u001b[31mUnboundLocalError\u001b[39m                         Traceback (most recent call last)",
      "\u001b[36mCell\u001b[39m\u001b[36m \u001b[39m\u001b[32mIn[95]\u001b[39m\u001b[32m, line 5\u001b[39m\n\u001b[32m      3\u001b[39m     x +=\u001b[32m1\u001b[39m \n\u001b[32m      4\u001b[39m x = \u001b[32m5\u001b[39m \n\u001b[32m----> \u001b[39m\u001b[32m5\u001b[39m \u001b[43mh\u001b[49m\u001b[43m(\u001b[49m\u001b[43mx\u001b[49m\u001b[43m)\u001b[49m \u001b[38;5;66;03m# unboundLocalError \u001b[39;00m\n\u001b[32m      6\u001b[39m \u001b[38;5;28mprint\u001b[39m(x) \n\u001b[32m      8\u001b[39m \u001b[38;5;66;03m# Error : we can only read the value of global variable from inside a function \u001b[39;00m\n\u001b[32m      9\u001b[39m \u001b[38;5;66;03m# we can not write/update the global variable from inside a function \u001b[39;00m\n",
      "\u001b[36mCell\u001b[39m\u001b[36m \u001b[39m\u001b[32mIn[95]\u001b[39m\u001b[32m, line 3\u001b[39m, in \u001b[36mh\u001b[39m\u001b[34m(y)\u001b[39m\n\u001b[32m      2\u001b[39m \u001b[38;5;28;01mdef\u001b[39;00m\u001b[38;5;250m \u001b[39m\u001b[34mh\u001b[39m(y) : \n\u001b[32m----> \u001b[39m\u001b[32m3\u001b[39m     \u001b[43mx\u001b[49m +=\u001b[32m1\u001b[39m\n",
      "\u001b[31mUnboundLocalError\u001b[39m: cannot access local variable 'x' where it is not associated with a value"
     ]
    }
   ],
   "source": [
    "# another example of variable scope in function\n",
    "def h(y) : \n",
    "    x +=1 \n",
    "x = 5 \n",
    "h(x) # unboundLocalError \n",
    "print(x) \n",
    "\n",
    "# Error : we can only read the value of global variable from inside a function \n",
    "# we can not write/update the global variable from inside a function "
   ]
  },
  {
   "cell_type": "code",
   "execution_count": null,
   "id": "dae4fa35",
   "metadata": {},
   "outputs": [
    {
     "name": "stdout",
     "output_type": "stream",
     "text": [
      "6\n"
     ]
    }
   ],
   "source": [
    "def h(y) : \n",
    "    global x # not a good programming practice \n",
    "    x +=1 \n",
    "x = 5 \n",
    "h(x) \n",
    "print(x) \n",
    "# global : give us facility to change the value of global variable from inside a function \n",
    "\n"
   ]
  },
  {
   "cell_type": "code",
   "execution_count": null,
   "id": "55c35a22",
   "metadata": {},
   "outputs": [
    {
     "name": "stdout",
     "output_type": "stream",
     "text": [
      "x in f(x) is :  4\n",
      "4\n"
     ]
    }
   ],
   "source": [
    "def f(x) : \n",
    "    x = x+1 \n",
    "    print(\"x in f(x) is : \" , x) \n",
    "    return x \n",
    "x = 3 \n",
    "z = f(x) \n",
    "print(z) \n"
   ]
  },
  {
   "cell_type": "code",
   "execution_count": 96,
   "id": "a4be7b3c",
   "metadata": {},
   "outputs": [
    {
     "name": "stdout",
     "output_type": "stream",
     "text": [
      "Inside function f\n",
      "Inside function g \n"
     ]
    }
   ],
   "source": [
    "# nested function in python \n",
    "def f() : \n",
    "    def g() : \n",
    "        print(\"Inside function g \") \n",
    "    print(\"Inside function f\") \n",
    "    g() \n",
    "\n",
    "f() # calling function f( )\n",
    "\n",
    "# visualize its execution \n",
    "# g() : we can't call g() , it's not know to interpreter \n",
    "# it is hidden from outside world "
   ]
  },
  {
   "cell_type": "code",
   "execution_count": 97,
   "id": "9d9f050c",
   "metadata": {},
   "outputs": [
    {
     "name": "stdout",
     "output_type": "stream",
     "text": [
      "Inside function f\n"
     ]
    }
   ],
   "source": [
    "def f() : \n",
    "    def g() : \n",
    "        print(\"Inside function g \") \n",
    "    print(\"Inside function f\") \n",
    "   # f() # calling function f() will cause an Recursion Error \n",
    "\n",
    "f() # calling function f( )"
   ]
  },
  {
   "cell_type": "code",
   "execution_count": 98,
   "id": "ae5f9eab",
   "metadata": {},
   "outputs": [],
   "source": [
    "# first class citizens :\n",
    "# function can be stored in a variable , can be passed to another function as an argument \n",
    "# or a function can return another function \n",
    "# Can a  function return itself? Yes\n",
    "# \n",
    "# \n",
    "# \n",
    "#  "
   ]
  },
  {
   "cell_type": "code",
   "execution_count": 1,
   "id": "52f00735",
   "metadata": {},
   "outputs": [
    {
     "name": "stdout",
     "output_type": "stream",
     "text": [
      "16\n"
     ]
    }
   ],
   "source": [
    "# a function can return it self\n",
    "def square(num) : \n",
    "    print(num*num) \n",
    "    #return square \n",
    "# sq = square(4) \n",
    "# print(sq(5)) \n",
    "\n",
    "sq = square \n",
    "del square\n",
    "sq(4) \n",
    "\n",
    "# function is immutable : \n",
    "\n",
    "# store in sets as set can't hold mutable item"
   ]
  },
  {
   "cell_type": "code",
   "execution_count": 6,
   "id": "928afd06",
   "metadata": {},
   "outputs": [
    {
     "name": "stdout",
     "output_type": "stream",
     "text": [
      "<function f.<locals>.x at 0x000001F6522F9BC0>\n"
     ]
    },
    {
     "data": {
      "text/plain": [
       "(2, 4)"
      ]
     },
     "execution_count": 6,
     "metadata": {},
     "output_type": "execute_result"
    }
   ],
   "source": [
    "# function returning a function \n",
    "def f() : \n",
    "    def x(a,b) : \n",
    "        return a+b \n",
    "    return x # return the function object  \n",
    "print(f())\n",
    "\n",
    "(2,4) # explain this line ? \n",
    "\n",
    "# f() call hua aur iske jagah par x function aaya fir x() call hua\n",
    "\n",
    "\n",
    "\n",
    "\n",
    "\n",
    "\n",
    "\n",
    "\n",
    "\n",
    "\n",
    "\n",
    "# val = f() # f()() :  \n",
    "#print(val(2,3)) \n",
    "# calling x function \n"
   ]
  },
  {
   "cell_type": "code",
   "execution_count": null,
   "id": "16fcfc3d",
   "metadata": {},
   "outputs": [
    {
     "name": "stdout",
     "output_type": "stream",
     "text": [
      "25\n"
     ]
    },
    {
     "ename": "TypeError",
     "evalue": "f1() missing 1 required positional argument: 'val'",
     "output_type": "error",
     "traceback": [
      "\u001b[31m---------------------------------------------------------------------------\u001b[39m",
      "\u001b[31mTypeError\u001b[39m                                 Traceback (most recent call last)",
      "\u001b[36mCell\u001b[39m\u001b[36m \u001b[39m\u001b[32mIn[8]\u001b[39m\u001b[32m, line 10\u001b[39m\n\u001b[32m      7\u001b[39m     \u001b[38;5;28;01mreturn\u001b[39;00m num*num \n\u001b[32m      8\u001b[39m f1(sq , \u001b[32m5\u001b[39m) \n\u001b[32m---> \u001b[39m\u001b[32m10\u001b[39m \u001b[43mf1\u001b[49m\u001b[43m(\u001b[49m\u001b[43mf1\u001b[49m\u001b[43m \u001b[49m\u001b[43m,\u001b[49m\u001b[43m \u001b[49m\u001b[32;43m5\u001b[39;49m\u001b[43m)\u001b[49m\n\u001b[32m     12\u001b[39m \u001b[38;5;66;03m# a function take a function as an argument called higher order function \u001b[39;00m\n",
      "\u001b[36mCell\u001b[39m\u001b[36m \u001b[39m\u001b[32mIn[8]\u001b[39m\u001b[32m, line 3\u001b[39m, in \u001b[36mf1\u001b[39m\u001b[34m(f, val)\u001b[39m\n\u001b[32m      2\u001b[39m \u001b[38;5;28;01mdef\u001b[39;00m\u001b[38;5;250m \u001b[39m\u001b[34mf1\u001b[39m(f , val) : \n\u001b[32m----> \u001b[39m\u001b[32m3\u001b[39m     sq = \u001b[43mf\u001b[49m\u001b[43m(\u001b[49m\u001b[43mval\u001b[49m\u001b[43m)\u001b[49m \n\u001b[32m      4\u001b[39m     \u001b[38;5;28mprint\u001b[39m(sq)\n",
      "\u001b[31mTypeError\u001b[39m: f1() missing 1 required positional argument: 'val'"
     ]
    }
   ],
   "source": [
    "\n",
    "# function recieving a function as an argument \n",
    "def f1(f , val) : \n",
    "    sq = f(val) \n",
    "    print(sq) \n",
    "    \n",
    "def sq(num) :\n",
    "    return num*num \n",
    "f1(sq , 5) \n",
    "\n",
    "\n",
    "# a function take a function as an argument called higher order function "
   ]
  },
  {
   "cell_type": "code",
   "execution_count": 9,
   "id": "929b01d6",
   "metadata": {},
   "outputs": [
    {
     "name": "stdout",
     "output_type": "stream",
     "text": [
      "Inside function f\n",
      "<function f at 0x000001F652408540>\n"
     ]
    }
   ],
   "source": [
    "def f(func) : \n",
    "    print(\"Inside function f\") \n",
    "    print(func) \n",
    "f(f) "
   ]
  },
  {
   "cell_type": "code",
   "execution_count": 102,
   "id": "355b61cd",
   "metadata": {},
   "outputs": [],
   "source": [
    "# lamda function in python \n",
    "# lambd a,b: a+b  \n",
    "# lamda : keyword \n",
    "# a,b: parameter (s) , separated by comma \n",
    "# a+b :  expression , must be a single valid python expression \n",
    "# : colon cue for the expression \n",
    "\n",
    "# no name \n",
    "# has no return value( return whole function ) \n",
    "# written in one line \n",
    "# not reusable \n",
    "\n",
    "# They are used with higher order function "
   ]
  },
  {
   "cell_type": "code",
   "execution_count": 103,
   "id": "8b1ab545",
   "metadata": {},
   "outputs": [
    {
     "name": "stdout",
     "output_type": "stream",
     "text": [
      "16\n",
      "False\n",
      "True\n"
     ]
    }
   ],
   "source": [
    "a = lambda x : x*x \n",
    "print(a(4)) \n",
    "\n",
    "# check if a string has 'a' \n",
    "\n",
    "a = lambda s : 'a' in s\n",
    "print(a(\"hello\") )\n",
    "print(a(\"Sarvesh\" ))"
   ]
  },
  {
   "cell_type": "code",
   "execution_count": 104,
   "id": "16668667",
   "metadata": {},
   "outputs": [
    {
     "name": "stdout",
     "output_type": "stream",
     "text": [
      "odd\n",
      "even\n"
     ]
    }
   ],
   "source": [
    "a = lambda x :'even' if(x%2==0) else 'odd' \n",
    "\n",
    "print(a(5)) \n",
    "print(a(4)) "
   ]
  },
  {
   "cell_type": "code",
   "execution_count": 105,
   "id": "75521d44",
   "metadata": {},
   "outputs": [
    {
     "name": "stdout",
     "output_type": "stream",
     "text": [
      "[1, 4, 9, 16, 25, 36, 49, 64, 81, 100]\n"
     ]
    }
   ],
   "source": [
    "# higher order function \n",
    "\n",
    "def sqaure(x) : \n",
    "    return x**2 \n",
    "\n",
    "# higher order function \n",
    "def transform(f ,l) :\n",
    "    result = [] \n",
    "    for i in l : \n",
    "        result.append(f(i)) \n",
    "    return result \n",
    "l = [1,2,3,4,5,6,7,8,9,10] \n",
    "print(transform(sqaure , l))"
   ]
  },
  {
   "cell_type": "code",
   "execution_count": 106,
   "id": "b2f63ab1",
   "metadata": {},
   "outputs": [],
   "source": [
    "# map , filter and reduce : HOF \n",
    "# all are powerfull functions \n",
    "# they return object of map , filter and reduce type respet..."
   ]
  },
  {
   "cell_type": "code",
   "execution_count": 107,
   "id": "dfbd5f35",
   "metadata": {},
   "outputs": [
    {
     "name": "stdout",
     "output_type": "stream",
     "text": [
      "[1, 4, 9, 16, 25, 36]\n"
     ]
    }
   ],
   "source": [
    "# square of the items of a list \n",
    "l1= list(map(lambda x : x**2 , [1,2,3,4,5,6]))\n",
    "print(l1)"
   ]
  },
  {
   "cell_type": "code",
   "execution_count": 108,
   "id": "86ff19e4",
   "metadata": {},
   "outputs": [
    {
     "name": "stdout",
     "output_type": "stream",
     "text": [
      "['odd', 'even', 'odd', 'even', 'odd', 'even', 'odd', 'even', 'odd']\n"
     ]
    }
   ],
   "source": [
    "# odd even \n",
    "l = [1,2,3,4,5] \n",
    "l2 = list(map(lambda x : 'even' if(x%2== 0) else 'odd', [1,2,3,4,5,6,7,8,9]) ) \n",
    "print(l2) "
   ]
  },
  {
   "cell_type": "code",
   "execution_count": 109,
   "id": "11d2e253",
   "metadata": {},
   "outputs": [
    {
     "name": "stdout",
     "output_type": "stream",
     "text": [
      "[6, 7, 8, 9, 11, 13, 45]\n"
     ]
    }
   ],
   "source": [
    "# filter \n",
    "\n",
    "l = [3,4,5,6,7,8,9,11,13,45] \n",
    "l3 = list(filter(lambda x : x>5 , l)) \n",
    "print(l3) \n",
    " "
   ]
  },
  {
   "cell_type": "code",
   "execution_count": null,
   "id": "65a379ff",
   "metadata": {},
   "outputs": [
    {
     "data": {
      "text/plain": [
       "1"
      ]
     },
     "execution_count": 110,
     "metadata": {},
     "output_type": "execute_result"
    }
   ],
   "source": [
    "# reduce \n",
    "import functools\n",
    "functools.reduce(lambda x,y :x+y ,[1,2,3,4,5,6,7,8,9,10]) \n",
    "# visualize its execution \n",
    "\n",
    "# find min element of list \n",
    "\n",
    "functools.reduce(lambda x ,y :x if x<y else y , [10,9,8,7,6,5,4,3,2,1] , 100) "
   ]
  },
  {
   "cell_type": "code",
   "execution_count": 111,
   "id": "dbea58fc",
   "metadata": {},
   "outputs": [
    {
     "name": "stdout",
     "output_type": "stream",
     "text": [
      "Function has been over in Python \n"
     ]
    }
   ],
   "source": [
    "print(\"Function has been over in Python \")"
   ]
  }
 ],
 "metadata": {
  "kernelspec": {
   "display_name": "Python 3",
   "language": "python",
   "name": "python3"
  },
  "language_info": {
   "codemirror_mode": {
    "name": "ipython",
    "version": 3
   },
   "file_extension": ".py",
   "mimetype": "text/x-python",
   "name": "python",
   "nbconvert_exporter": "python",
   "pygments_lexer": "ipython3",
   "version": "3.13.7"
  }
 },
 "nbformat": 4,
 "nbformat_minor": 5
}
